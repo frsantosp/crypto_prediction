{
 "cells": [
  {
   "cell_type": "code",
   "execution_count": 49,
   "metadata": {
    "collapsed": true
   },
   "outputs": [
    {
     "data": {
      "text/plain": "         Date        Open        High         Low       Close   Adj Close  \\\n0  2014-09-17  465.864014  468.174011  452.421997  457.334015  457.334015   \n1  2014-09-18  456.859985  456.859985  413.104004  424.440002  424.440002   \n2  2014-09-19  424.102997  427.834991  384.532013  394.795990  394.795990   \n3  2014-09-20  394.673004  423.295990  389.882996  408.903992  408.903992   \n4  2014-09-21  408.084991  412.425995  393.181000  398.821014  398.821014   \n5  2014-09-22  399.100006  406.915985  397.130005  402.152008  402.152008   \n6  2014-09-23  402.092010  441.557007  396.196991  435.790985  435.790985   \n7  2014-09-24  435.751007  436.112000  421.131989  423.204987  423.204987   \n8  2014-09-25  423.156006  423.519989  409.467987  411.574005  411.574005   \n9  2014-09-26  411.428986  414.937988  400.009003  404.424988  404.424988   \n\n       Volume  \n0  21056800.0  \n1  34483200.0  \n2  37919700.0  \n3  36863600.0  \n4  26580100.0  \n5  24127600.0  \n6  45099500.0  \n7  30627700.0  \n8  26814400.0  \n9  21460800.0  ",
      "text/html": "<div>\n<style scoped>\n    .dataframe tbody tr th:only-of-type {\n        vertical-align: middle;\n    }\n\n    .dataframe tbody tr th {\n        vertical-align: top;\n    }\n\n    .dataframe thead th {\n        text-align: right;\n    }\n</style>\n<table border=\"1\" class=\"dataframe\">\n  <thead>\n    <tr style=\"text-align: right;\">\n      <th></th>\n      <th>Date</th>\n      <th>Open</th>\n      <th>High</th>\n      <th>Low</th>\n      <th>Close</th>\n      <th>Adj Close</th>\n      <th>Volume</th>\n    </tr>\n  </thead>\n  <tbody>\n    <tr>\n      <th>0</th>\n      <td>2014-09-17</td>\n      <td>465.864014</td>\n      <td>468.174011</td>\n      <td>452.421997</td>\n      <td>457.334015</td>\n      <td>457.334015</td>\n      <td>21056800.0</td>\n    </tr>\n    <tr>\n      <th>1</th>\n      <td>2014-09-18</td>\n      <td>456.859985</td>\n      <td>456.859985</td>\n      <td>413.104004</td>\n      <td>424.440002</td>\n      <td>424.440002</td>\n      <td>34483200.0</td>\n    </tr>\n    <tr>\n      <th>2</th>\n      <td>2014-09-19</td>\n      <td>424.102997</td>\n      <td>427.834991</td>\n      <td>384.532013</td>\n      <td>394.795990</td>\n      <td>394.795990</td>\n      <td>37919700.0</td>\n    </tr>\n    <tr>\n      <th>3</th>\n      <td>2014-09-20</td>\n      <td>394.673004</td>\n      <td>423.295990</td>\n      <td>389.882996</td>\n      <td>408.903992</td>\n      <td>408.903992</td>\n      <td>36863600.0</td>\n    </tr>\n    <tr>\n      <th>4</th>\n      <td>2014-09-21</td>\n      <td>408.084991</td>\n      <td>412.425995</td>\n      <td>393.181000</td>\n      <td>398.821014</td>\n      <td>398.821014</td>\n      <td>26580100.0</td>\n    </tr>\n    <tr>\n      <th>5</th>\n      <td>2014-09-22</td>\n      <td>399.100006</td>\n      <td>406.915985</td>\n      <td>397.130005</td>\n      <td>402.152008</td>\n      <td>402.152008</td>\n      <td>24127600.0</td>\n    </tr>\n    <tr>\n      <th>6</th>\n      <td>2014-09-23</td>\n      <td>402.092010</td>\n      <td>441.557007</td>\n      <td>396.196991</td>\n      <td>435.790985</td>\n      <td>435.790985</td>\n      <td>45099500.0</td>\n    </tr>\n    <tr>\n      <th>7</th>\n      <td>2014-09-24</td>\n      <td>435.751007</td>\n      <td>436.112000</td>\n      <td>421.131989</td>\n      <td>423.204987</td>\n      <td>423.204987</td>\n      <td>30627700.0</td>\n    </tr>\n    <tr>\n      <th>8</th>\n      <td>2014-09-25</td>\n      <td>423.156006</td>\n      <td>423.519989</td>\n      <td>409.467987</td>\n      <td>411.574005</td>\n      <td>411.574005</td>\n      <td>26814400.0</td>\n    </tr>\n    <tr>\n      <th>9</th>\n      <td>2014-09-26</td>\n      <td>411.428986</td>\n      <td>414.937988</td>\n      <td>400.009003</td>\n      <td>404.424988</td>\n      <td>404.424988</td>\n      <td>21460800.0</td>\n    </tr>\n  </tbody>\n</table>\n</div>"
     },
     "execution_count": 49,
     "metadata": {},
     "output_type": "execute_result"
    }
   ],
   "source": [
    "import pandas as pd\n",
    "bitcoin_df = pd.read_csv(\"Data/BTC-USD.csv\")\n",
    "bitcoin_df.head(10)"
   ]
  },
  {
   "cell_type": "code",
   "execution_count": 50,
   "outputs": [
    {
     "data": {
      "text/plain": "[4, 4, 4, 4, 4, 4]"
     },
     "execution_count": 50,
     "metadata": {},
     "output_type": "execute_result"
    }
   ],
   "source": [
    "numNULL = bitcoin_df.isnull().sum().sum()\n",
    "nullOpen = bitcoin_df['Open'].isnull().sum()\n",
    "nullHigh = bitcoin_df['High'].isnull().sum()\n",
    "nullLow = bitcoin_df['Low'].isnull().sum()\n",
    "nullClose = bitcoin_df['Close'].isnull().sum()\n",
    "nullAdjClose = bitcoin_df['Adj Close'].isnull().sum()\n",
    "nullVol = bitcoin_df['Volume'].isnull().sum()\n",
    "nullTotal = [nullOpen, nullHigh, nullLow, nullClose, nullAdjClose, nullVol]\n",
    "nullTotal"
   ],
   "metadata": {
    "collapsed": false,
    "pycharm": {
     "name": "#%%\n"
    }
   }
  },
  {
   "cell_type": "code",
   "execution_count": 51,
   "outputs": [
    {
     "data": {
      "text/plain": "            Date  Open  High  Low  Close  Adj Close  Volume\n2039  2020-04-17   NaN   NaN  NaN    NaN        NaN     NaN\n2214  2020-10-09   NaN   NaN  NaN    NaN        NaN     NaN\n2217  2020-10-12   NaN   NaN  NaN    NaN        NaN     NaN\n2218  2020-10-13   NaN   NaN  NaN    NaN        NaN     NaN",
      "text/html": "<div>\n<style scoped>\n    .dataframe tbody tr th:only-of-type {\n        vertical-align: middle;\n    }\n\n    .dataframe tbody tr th {\n        vertical-align: top;\n    }\n\n    .dataframe thead th {\n        text-align: right;\n    }\n</style>\n<table border=\"1\" class=\"dataframe\">\n  <thead>\n    <tr style=\"text-align: right;\">\n      <th></th>\n      <th>Date</th>\n      <th>Open</th>\n      <th>High</th>\n      <th>Low</th>\n      <th>Close</th>\n      <th>Adj Close</th>\n      <th>Volume</th>\n    </tr>\n  </thead>\n  <tbody>\n    <tr>\n      <th>2039</th>\n      <td>2020-04-17</td>\n      <td>NaN</td>\n      <td>NaN</td>\n      <td>NaN</td>\n      <td>NaN</td>\n      <td>NaN</td>\n      <td>NaN</td>\n    </tr>\n    <tr>\n      <th>2214</th>\n      <td>2020-10-09</td>\n      <td>NaN</td>\n      <td>NaN</td>\n      <td>NaN</td>\n      <td>NaN</td>\n      <td>NaN</td>\n      <td>NaN</td>\n    </tr>\n    <tr>\n      <th>2217</th>\n      <td>2020-10-12</td>\n      <td>NaN</td>\n      <td>NaN</td>\n      <td>NaN</td>\n      <td>NaN</td>\n      <td>NaN</td>\n      <td>NaN</td>\n    </tr>\n    <tr>\n      <th>2218</th>\n      <td>2020-10-13</td>\n      <td>NaN</td>\n      <td>NaN</td>\n      <td>NaN</td>\n      <td>NaN</td>\n      <td>NaN</td>\n      <td>NaN</td>\n    </tr>\n  </tbody>\n</table>\n</div>"
     },
     "execution_count": 51,
     "metadata": {},
     "output_type": "execute_result"
    }
   ],
   "source": [
    "null = bitcoin_df.loc[bitcoin_df['Open'].isnull()]\n",
    "null"
   ],
   "metadata": {
    "collapsed": false,
    "pycharm": {
     "name": "#%%\n"
    }
   }
  },
  {
   "cell_type": "code",
   "execution_count": 52,
   "outputs": [
    {
     "data": {
      "text/plain": "Empty DataFrame\nColumns: [Date, Open, High, Low, Close, Adj Close, Volume]\nIndex: []",
      "text/html": "<div>\n<style scoped>\n    .dataframe tbody tr th:only-of-type {\n        vertical-align: middle;\n    }\n\n    .dataframe tbody tr th {\n        vertical-align: top;\n    }\n\n    .dataframe thead th {\n        text-align: right;\n    }\n</style>\n<table border=\"1\" class=\"dataframe\">\n  <thead>\n    <tr style=\"text-align: right;\">\n      <th></th>\n      <th>Date</th>\n      <th>Open</th>\n      <th>High</th>\n      <th>Low</th>\n      <th>Close</th>\n      <th>Adj Close</th>\n      <th>Volume</th>\n    </tr>\n  </thead>\n  <tbody>\n  </tbody>\n</table>\n</div>"
     },
     "execution_count": 52,
     "metadata": {},
     "output_type": "execute_result"
    }
   ],
   "source": [
    "bitcoin_df = bitcoin_df.drop([2039,2214,2217,2218])\n",
    "null = bitcoin_df.loc[bitcoin_df['Open'].isnull()]\n",
    "null"
   ],
   "metadata": {
    "collapsed": false,
    "pycharm": {
     "name": "#%%\n"
    }
   }
  },
  {
   "cell_type": "code",
   "execution_count": 53,
   "outputs": [],
   "source": [
    "bitcoin_df.to_csv(r'Data/btc_clean.csv',index=False)\n"
   ],
   "metadata": {
    "collapsed": false,
    "pycharm": {
     "name": "#%%\n"
    }
   }
  },
  {
   "cell_type": "code",
   "execution_count": 54,
   "outputs": [
    {
     "data": {
      "text/plain": "         Date     Open     High      Low    Close  Adj Close     Volume\n0  2014-09-17  5.08589  5.17077  4.96595  5.05855    5.05855  3071840.0\n1  2014-09-18  5.06543  5.06543  4.57996  4.68523    4.68523  4569260.0\n2  2014-09-19  4.68729  4.75582  4.25435  4.32777    4.32777  3917450.0\n3  2014-09-20  4.32920  4.61608  4.20219  4.28644    4.28644  5490660.0\n4  2014-09-21  4.26307  4.30013  4.15499  4.24592    4.24592  2931220.0\n5  2014-09-22  4.24593  4.41688  4.21013  4.24235    4.24235  1855960.0\n6  2014-09-23  4.23999  4.88135  4.18887  4.74657    4.74657  4661670.0\n7  2014-09-24  4.74420  4.74512  4.62769  4.66679    4.66679  2662290.0\n8  2014-09-25  4.66588  4.67132  4.44870  4.51465    4.51465  2046960.0\n9  2014-09-26  4.50993  4.55182  4.38880  4.43359    4.43359  1548350.0",
      "text/html": "<div>\n<style scoped>\n    .dataframe tbody tr th:only-of-type {\n        vertical-align: middle;\n    }\n\n    .dataframe tbody tr th {\n        vertical-align: top;\n    }\n\n    .dataframe thead th {\n        text-align: right;\n    }\n</style>\n<table border=\"1\" class=\"dataframe\">\n  <thead>\n    <tr style=\"text-align: right;\">\n      <th></th>\n      <th>Date</th>\n      <th>Open</th>\n      <th>High</th>\n      <th>Low</th>\n      <th>Close</th>\n      <th>Adj Close</th>\n      <th>Volume</th>\n    </tr>\n  </thead>\n  <tbody>\n    <tr>\n      <th>0</th>\n      <td>2014-09-17</td>\n      <td>5.08589</td>\n      <td>5.17077</td>\n      <td>4.96595</td>\n      <td>5.05855</td>\n      <td>5.05855</td>\n      <td>3071840.0</td>\n    </tr>\n    <tr>\n      <th>1</th>\n      <td>2014-09-18</td>\n      <td>5.06543</td>\n      <td>5.06543</td>\n      <td>4.57996</td>\n      <td>4.68523</td>\n      <td>4.68523</td>\n      <td>4569260.0</td>\n    </tr>\n    <tr>\n      <th>2</th>\n      <td>2014-09-19</td>\n      <td>4.68729</td>\n      <td>4.75582</td>\n      <td>4.25435</td>\n      <td>4.32777</td>\n      <td>4.32777</td>\n      <td>3917450.0</td>\n    </tr>\n    <tr>\n      <th>3</th>\n      <td>2014-09-20</td>\n      <td>4.32920</td>\n      <td>4.61608</td>\n      <td>4.20219</td>\n      <td>4.28644</td>\n      <td>4.28644</td>\n      <td>5490660.0</td>\n    </tr>\n    <tr>\n      <th>4</th>\n      <td>2014-09-21</td>\n      <td>4.26307</td>\n      <td>4.30013</td>\n      <td>4.15499</td>\n      <td>4.24592</td>\n      <td>4.24592</td>\n      <td>2931220.0</td>\n    </tr>\n    <tr>\n      <th>5</th>\n      <td>2014-09-22</td>\n      <td>4.24593</td>\n      <td>4.41688</td>\n      <td>4.21013</td>\n      <td>4.24235</td>\n      <td>4.24235</td>\n      <td>1855960.0</td>\n    </tr>\n    <tr>\n      <th>6</th>\n      <td>2014-09-23</td>\n      <td>4.23999</td>\n      <td>4.88135</td>\n      <td>4.18887</td>\n      <td>4.74657</td>\n      <td>4.74657</td>\n      <td>4661670.0</td>\n    </tr>\n    <tr>\n      <th>7</th>\n      <td>2014-09-24</td>\n      <td>4.74420</td>\n      <td>4.74512</td>\n      <td>4.62769</td>\n      <td>4.66679</td>\n      <td>4.66679</td>\n      <td>2662290.0</td>\n    </tr>\n    <tr>\n      <th>8</th>\n      <td>2014-09-25</td>\n      <td>4.66588</td>\n      <td>4.67132</td>\n      <td>4.44870</td>\n      <td>4.51465</td>\n      <td>4.51465</td>\n      <td>2046960.0</td>\n    </tr>\n    <tr>\n      <th>9</th>\n      <td>2014-09-26</td>\n      <td>4.50993</td>\n      <td>4.55182</td>\n      <td>4.38880</td>\n      <td>4.43359</td>\n      <td>4.43359</td>\n      <td>1548350.0</td>\n    </tr>\n  </tbody>\n</table>\n</div>"
     },
     "execution_count": 54,
     "metadata": {},
     "output_type": "execute_result"
    }
   ],
   "source": [
    "import pandas as pd\n",
    "lit_df = pd.read_csv(\"Data/LTC-USD.csv\")\n",
    "lit_df.head(10)"
   ],
   "metadata": {
    "collapsed": false,
    "pycharm": {
     "name": "#%%\n"
    }
   }
  },
  {
   "cell_type": "code",
   "execution_count": 55,
   "outputs": [
    {
     "data": {
      "text/plain": "[4, 4, 4, 4, 4, 4]"
     },
     "execution_count": 55,
     "metadata": {},
     "output_type": "execute_result"
    }
   ],
   "source": [
    "numNULL = lit_df.isnull().sum().sum()\n",
    "nullOpen = lit_df['Open'].isnull().sum()\n",
    "nullHigh = lit_df['High'].isnull().sum()\n",
    "nullLow = lit_df['Low'].isnull().sum()\n",
    "nullClose = lit_df['Close'].isnull().sum()\n",
    "nullAdjClose = lit_df['Adj Close'].isnull().sum()\n",
    "nullVol = lit_df['Volume'].isnull().sum()\n",
    "nullTotal = [nullOpen, nullHigh, nullLow, nullClose, nullAdjClose, nullVol]\n",
    "nullTotal\n"
   ],
   "metadata": {
    "collapsed": false,
    "pycharm": {
     "name": "#%%\n"
    }
   }
  },
  {
   "cell_type": "code",
   "execution_count": 56,
   "outputs": [
    {
     "data": {
      "text/plain": "            Date  Open  High  Low  Close  Adj Close  Volume\n2039  2020-04-17   NaN   NaN  NaN    NaN        NaN     NaN\n2214  2020-10-09   NaN   NaN  NaN    NaN        NaN     NaN\n2217  2020-10-12   NaN   NaN  NaN    NaN        NaN     NaN\n2218  2020-10-13   NaN   NaN  NaN    NaN        NaN     NaN",
      "text/html": "<div>\n<style scoped>\n    .dataframe tbody tr th:only-of-type {\n        vertical-align: middle;\n    }\n\n    .dataframe tbody tr th {\n        vertical-align: top;\n    }\n\n    .dataframe thead th {\n        text-align: right;\n    }\n</style>\n<table border=\"1\" class=\"dataframe\">\n  <thead>\n    <tr style=\"text-align: right;\">\n      <th></th>\n      <th>Date</th>\n      <th>Open</th>\n      <th>High</th>\n      <th>Low</th>\n      <th>Close</th>\n      <th>Adj Close</th>\n      <th>Volume</th>\n    </tr>\n  </thead>\n  <tbody>\n    <tr>\n      <th>2039</th>\n      <td>2020-04-17</td>\n      <td>NaN</td>\n      <td>NaN</td>\n      <td>NaN</td>\n      <td>NaN</td>\n      <td>NaN</td>\n      <td>NaN</td>\n    </tr>\n    <tr>\n      <th>2214</th>\n      <td>2020-10-09</td>\n      <td>NaN</td>\n      <td>NaN</td>\n      <td>NaN</td>\n      <td>NaN</td>\n      <td>NaN</td>\n      <td>NaN</td>\n    </tr>\n    <tr>\n      <th>2217</th>\n      <td>2020-10-12</td>\n      <td>NaN</td>\n      <td>NaN</td>\n      <td>NaN</td>\n      <td>NaN</td>\n      <td>NaN</td>\n      <td>NaN</td>\n    </tr>\n    <tr>\n      <th>2218</th>\n      <td>2020-10-13</td>\n      <td>NaN</td>\n      <td>NaN</td>\n      <td>NaN</td>\n      <td>NaN</td>\n      <td>NaN</td>\n      <td>NaN</td>\n    </tr>\n  </tbody>\n</table>\n</div>"
     },
     "execution_count": 56,
     "metadata": {},
     "output_type": "execute_result"
    }
   ],
   "source": [
    "null = lit_df.loc[lit_df['Open'].isnull()]\n",
    "null\n"
   ],
   "metadata": {
    "collapsed": false,
    "pycharm": {
     "name": "#%%\n"
    }
   }
  },
  {
   "cell_type": "code",
   "execution_count": 57,
   "outputs": [
    {
     "data": {
      "text/plain": "Empty DataFrame\nColumns: [Date, Open, High, Low, Close, Adj Close, Volume]\nIndex: []",
      "text/html": "<div>\n<style scoped>\n    .dataframe tbody tr th:only-of-type {\n        vertical-align: middle;\n    }\n\n    .dataframe tbody tr th {\n        vertical-align: top;\n    }\n\n    .dataframe thead th {\n        text-align: right;\n    }\n</style>\n<table border=\"1\" class=\"dataframe\">\n  <thead>\n    <tr style=\"text-align: right;\">\n      <th></th>\n      <th>Date</th>\n      <th>Open</th>\n      <th>High</th>\n      <th>Low</th>\n      <th>Close</th>\n      <th>Adj Close</th>\n      <th>Volume</th>\n    </tr>\n  </thead>\n  <tbody>\n  </tbody>\n</table>\n</div>"
     },
     "execution_count": 57,
     "metadata": {},
     "output_type": "execute_result"
    }
   ],
   "source": [
    "lit_df = lit_df.drop([2039,2214,2217,2218])\n",
    "null = lit_df.loc[lit_df['Open'].isnull()]\n",
    "null"
   ],
   "metadata": {
    "collapsed": false,
    "pycharm": {
     "name": "#%%\n"
    }
   }
  },
  {
   "cell_type": "code",
   "execution_count": 65,
   "outputs": [],
   "source": [
    "lit_df.to_csv(r'Data/ltc_clean.csv',index=False)"
   ],
   "metadata": {
    "collapsed": false,
    "pycharm": {
     "name": "#%%\n"
    }
   }
  },
  {
   "cell_type": "code",
   "execution_count": 59,
   "outputs": [
    {
     "data": {
      "text/plain": "         Date      Open      High       Low     Close  Adj Close     Volume\n0  2015-08-07  2.831620  3.536610  2.521120  2.772120   2.772120   164329.0\n1  2015-08-08  2.793760  2.798810  0.714725  0.753325   0.753325   674188.0\n2  2015-08-09  0.706136  0.879810  0.629191  0.701897   0.701897   532170.0\n3  2015-08-10  0.713989  0.729854  0.636546  0.708448   0.708448   405283.0\n4  2015-08-11  0.708087  1.131410  0.663235  1.067860   1.067860  1463100.0\n5  2015-08-12  1.058750  1.289940  0.883608  1.217440   1.217440  2150620.0\n6  2015-08-13  1.222240  1.965070  1.171990  1.827670   1.827670  4068680.0\n7  2015-08-14  1.810920  2.261880  1.754750  1.827870   1.827870  4637030.0\n8  2015-08-15  1.802890  1.877240  1.570980  1.688900   1.688900  2554360.0\n9  2015-08-16  1.684350  1.695240  1.089810  1.566030   1.566030  3550790.0",
      "text/html": "<div>\n<style scoped>\n    .dataframe tbody tr th:only-of-type {\n        vertical-align: middle;\n    }\n\n    .dataframe tbody tr th {\n        vertical-align: top;\n    }\n\n    .dataframe thead th {\n        text-align: right;\n    }\n</style>\n<table border=\"1\" class=\"dataframe\">\n  <thead>\n    <tr style=\"text-align: right;\">\n      <th></th>\n      <th>Date</th>\n      <th>Open</th>\n      <th>High</th>\n      <th>Low</th>\n      <th>Close</th>\n      <th>Adj Close</th>\n      <th>Volume</th>\n    </tr>\n  </thead>\n  <tbody>\n    <tr>\n      <th>0</th>\n      <td>2015-08-07</td>\n      <td>2.831620</td>\n      <td>3.536610</td>\n      <td>2.521120</td>\n      <td>2.772120</td>\n      <td>2.772120</td>\n      <td>164329.0</td>\n    </tr>\n    <tr>\n      <th>1</th>\n      <td>2015-08-08</td>\n      <td>2.793760</td>\n      <td>2.798810</td>\n      <td>0.714725</td>\n      <td>0.753325</td>\n      <td>0.753325</td>\n      <td>674188.0</td>\n    </tr>\n    <tr>\n      <th>2</th>\n      <td>2015-08-09</td>\n      <td>0.706136</td>\n      <td>0.879810</td>\n      <td>0.629191</td>\n      <td>0.701897</td>\n      <td>0.701897</td>\n      <td>532170.0</td>\n    </tr>\n    <tr>\n      <th>3</th>\n      <td>2015-08-10</td>\n      <td>0.713989</td>\n      <td>0.729854</td>\n      <td>0.636546</td>\n      <td>0.708448</td>\n      <td>0.708448</td>\n      <td>405283.0</td>\n    </tr>\n    <tr>\n      <th>4</th>\n      <td>2015-08-11</td>\n      <td>0.708087</td>\n      <td>1.131410</td>\n      <td>0.663235</td>\n      <td>1.067860</td>\n      <td>1.067860</td>\n      <td>1463100.0</td>\n    </tr>\n    <tr>\n      <th>5</th>\n      <td>2015-08-12</td>\n      <td>1.058750</td>\n      <td>1.289940</td>\n      <td>0.883608</td>\n      <td>1.217440</td>\n      <td>1.217440</td>\n      <td>2150620.0</td>\n    </tr>\n    <tr>\n      <th>6</th>\n      <td>2015-08-13</td>\n      <td>1.222240</td>\n      <td>1.965070</td>\n      <td>1.171990</td>\n      <td>1.827670</td>\n      <td>1.827670</td>\n      <td>4068680.0</td>\n    </tr>\n    <tr>\n      <th>7</th>\n      <td>2015-08-14</td>\n      <td>1.810920</td>\n      <td>2.261880</td>\n      <td>1.754750</td>\n      <td>1.827870</td>\n      <td>1.827870</td>\n      <td>4637030.0</td>\n    </tr>\n    <tr>\n      <th>8</th>\n      <td>2015-08-15</td>\n      <td>1.802890</td>\n      <td>1.877240</td>\n      <td>1.570980</td>\n      <td>1.688900</td>\n      <td>1.688900</td>\n      <td>2554360.0</td>\n    </tr>\n    <tr>\n      <th>9</th>\n      <td>2015-08-16</td>\n      <td>1.684350</td>\n      <td>1.695240</td>\n      <td>1.089810</td>\n      <td>1.566030</td>\n      <td>1.566030</td>\n      <td>3550790.0</td>\n    </tr>\n  </tbody>\n</table>\n</div>"
     },
     "execution_count": 59,
     "metadata": {},
     "output_type": "execute_result"
    }
   ],
   "source": [
    "import pandas as pd\n",
    "eth_df = pd.read_csv(\"Data/ETH-USD.csv\")\n",
    "eth_df.head(10)"
   ],
   "metadata": {
    "collapsed": false,
    "pycharm": {
     "name": "#%%\n"
    }
   }
  },
  {
   "cell_type": "code",
   "execution_count": 60,
   "outputs": [
    {
     "data": {
      "text/plain": "[4, 4, 4, 4, 4, 4]"
     },
     "execution_count": 60,
     "metadata": {},
     "output_type": "execute_result"
    }
   ],
   "source": [
    "numNULL = eth_df.isnull().sum().sum()\n",
    "nullOpen = eth_df['Open'].isnull().sum()\n",
    "nullHigh = eth_df['High'].isnull().sum()\n",
    "nullLow = eth_df['Low'].isnull().sum()\n",
    "nullClose = eth_df['Close'].isnull().sum()\n",
    "nullAdjClose = eth_df['Adj Close'].isnull().sum()\n",
    "nullVol = eth_df['Volume'].isnull().sum()\n",
    "nullTotal = [nullOpen, nullHigh, nullLow, nullClose, nullAdjClose, nullVol]\n",
    "nullTotal\n"
   ],
   "metadata": {
    "collapsed": false,
    "pycharm": {
     "name": "#%%\n"
    }
   }
  },
  {
   "cell_type": "code",
   "execution_count": 61,
   "outputs": [
    {
     "data": {
      "text/plain": "            Date  Open  High  Low  Close  Adj Close  Volume\n1715  2020-04-17   NaN   NaN  NaN    NaN        NaN     NaN\n1890  2020-10-09   NaN   NaN  NaN    NaN        NaN     NaN\n1893  2020-10-12   NaN   NaN  NaN    NaN        NaN     NaN\n1894  2020-10-13   NaN   NaN  NaN    NaN        NaN     NaN",
      "text/html": "<div>\n<style scoped>\n    .dataframe tbody tr th:only-of-type {\n        vertical-align: middle;\n    }\n\n    .dataframe tbody tr th {\n        vertical-align: top;\n    }\n\n    .dataframe thead th {\n        text-align: right;\n    }\n</style>\n<table border=\"1\" class=\"dataframe\">\n  <thead>\n    <tr style=\"text-align: right;\">\n      <th></th>\n      <th>Date</th>\n      <th>Open</th>\n      <th>High</th>\n      <th>Low</th>\n      <th>Close</th>\n      <th>Adj Close</th>\n      <th>Volume</th>\n    </tr>\n  </thead>\n  <tbody>\n    <tr>\n      <th>1715</th>\n      <td>2020-04-17</td>\n      <td>NaN</td>\n      <td>NaN</td>\n      <td>NaN</td>\n      <td>NaN</td>\n      <td>NaN</td>\n      <td>NaN</td>\n    </tr>\n    <tr>\n      <th>1890</th>\n      <td>2020-10-09</td>\n      <td>NaN</td>\n      <td>NaN</td>\n      <td>NaN</td>\n      <td>NaN</td>\n      <td>NaN</td>\n      <td>NaN</td>\n    </tr>\n    <tr>\n      <th>1893</th>\n      <td>2020-10-12</td>\n      <td>NaN</td>\n      <td>NaN</td>\n      <td>NaN</td>\n      <td>NaN</td>\n      <td>NaN</td>\n      <td>NaN</td>\n    </tr>\n    <tr>\n      <th>1894</th>\n      <td>2020-10-13</td>\n      <td>NaN</td>\n      <td>NaN</td>\n      <td>NaN</td>\n      <td>NaN</td>\n      <td>NaN</td>\n      <td>NaN</td>\n    </tr>\n  </tbody>\n</table>\n</div>"
     },
     "execution_count": 61,
     "metadata": {},
     "output_type": "execute_result"
    }
   ],
   "source": [
    "null = eth_df.loc[eth_df['Open'].isnull()]\n",
    "null"
   ],
   "metadata": {
    "collapsed": false,
    "pycharm": {
     "name": "#%%\n"
    }
   }
  },
  {
   "cell_type": "code",
   "execution_count": 62,
   "outputs": [
    {
     "data": {
      "text/plain": "Empty DataFrame\nColumns: [Date, Open, High, Low, Close, Adj Close, Volume]\nIndex: []",
      "text/html": "<div>\n<style scoped>\n    .dataframe tbody tr th:only-of-type {\n        vertical-align: middle;\n    }\n\n    .dataframe tbody tr th {\n        vertical-align: top;\n    }\n\n    .dataframe thead th {\n        text-align: right;\n    }\n</style>\n<table border=\"1\" class=\"dataframe\">\n  <thead>\n    <tr style=\"text-align: right;\">\n      <th></th>\n      <th>Date</th>\n      <th>Open</th>\n      <th>High</th>\n      <th>Low</th>\n      <th>Close</th>\n      <th>Adj Close</th>\n      <th>Volume</th>\n    </tr>\n  </thead>\n  <tbody>\n  </tbody>\n</table>\n</div>"
     },
     "execution_count": 62,
     "metadata": {},
     "output_type": "execute_result"
    }
   ],
   "source": [
    "eth_df = eth_df.drop([1715,1890,1893,1894])\n",
    "null = eth_df.loc[eth_df['Open'].isnull()]\n",
    "null"
   ],
   "metadata": {
    "collapsed": false,
    "pycharm": {
     "name": "#%%\n"
    }
   }
  },
  {
   "cell_type": "code",
   "execution_count": 64,
   "outputs": [],
   "source": [
    "eth_df.to_csv(r'Data/eth_clean.csv',index=False)\n"
   ],
   "metadata": {
    "collapsed": false,
    "pycharm": {
     "name": "#%%\n"
    }
   }
  }
 ],
 "metadata": {
  "kernelspec": {
   "display_name": "Python 3",
   "language": "python",
   "name": "python3"
  },
  "language_info": {
   "codemirror_mode": {
    "name": "ipython",
    "version": 2
   },
   "file_extension": ".py",
   "mimetype": "text/x-python",
   "name": "python",
   "nbconvert_exporter": "python",
   "pygments_lexer": "ipython2",
   "version": "2.7.6"
  }
 },
 "nbformat": 4,
 "nbformat_minor": 0
}