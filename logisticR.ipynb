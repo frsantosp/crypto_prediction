{
 "cells": [
  {
   "cell_type": "code",
   "execution_count": 33,
   "metadata": {
    "collapsed": true
   },
   "outputs": [
    {
     "data": {
      "text/plain": "         Date      Open      High       Low     Close  Adj Close     Volume  \\\n0  2015-08-07  2.831620  3.536610  2.521120  2.772120   2.772120   164329.0   \n1  2015-08-08  2.793760  2.798810  0.714725  0.753325   0.753325   674188.0   \n2  2015-08-09  0.706136  0.879810  0.629191  0.701897   0.701897   532170.0   \n3  2015-08-10  0.713989  0.729854  0.636546  0.708448   0.708448   405283.0   \n4  2015-08-11  0.708087  1.131410  0.663235  1.067860   1.067860  1463100.0   \n\n            GDP  inflation  MoneySupply  \n0  1.822470e+13   1.041462      11937.3  \n1  1.822470e+13   1.041462      11925.9  \n2  1.822470e+13   1.041462      11929.2  \n3  1.822470e+13   1.041462      11943.1  \n4  1.822470e+13   1.041462      11955.2  ",
      "text/html": "<div>\n<style scoped>\n    .dataframe tbody tr th:only-of-type {\n        vertical-align: middle;\n    }\n\n    .dataframe tbody tr th {\n        vertical-align: top;\n    }\n\n    .dataframe thead th {\n        text-align: right;\n    }\n</style>\n<table border=\"1\" class=\"dataframe\">\n  <thead>\n    <tr style=\"text-align: right;\">\n      <th></th>\n      <th>Date</th>\n      <th>Open</th>\n      <th>High</th>\n      <th>Low</th>\n      <th>Close</th>\n      <th>Adj Close</th>\n      <th>Volume</th>\n      <th>GDP</th>\n      <th>inflation</th>\n      <th>MoneySupply</th>\n    </tr>\n  </thead>\n  <tbody>\n    <tr>\n      <th>0</th>\n      <td>2015-08-07</td>\n      <td>2.831620</td>\n      <td>3.536610</td>\n      <td>2.521120</td>\n      <td>2.772120</td>\n      <td>2.772120</td>\n      <td>164329.0</td>\n      <td>1.822470e+13</td>\n      <td>1.041462</td>\n      <td>11937.3</td>\n    </tr>\n    <tr>\n      <th>1</th>\n      <td>2015-08-08</td>\n      <td>2.793760</td>\n      <td>2.798810</td>\n      <td>0.714725</td>\n      <td>0.753325</td>\n      <td>0.753325</td>\n      <td>674188.0</td>\n      <td>1.822470e+13</td>\n      <td>1.041462</td>\n      <td>11925.9</td>\n    </tr>\n    <tr>\n      <th>2</th>\n      <td>2015-08-09</td>\n      <td>0.706136</td>\n      <td>0.879810</td>\n      <td>0.629191</td>\n      <td>0.701897</td>\n      <td>0.701897</td>\n      <td>532170.0</td>\n      <td>1.822470e+13</td>\n      <td>1.041462</td>\n      <td>11929.2</td>\n    </tr>\n    <tr>\n      <th>3</th>\n      <td>2015-08-10</td>\n      <td>0.713989</td>\n      <td>0.729854</td>\n      <td>0.636546</td>\n      <td>0.708448</td>\n      <td>0.708448</td>\n      <td>405283.0</td>\n      <td>1.822470e+13</td>\n      <td>1.041462</td>\n      <td>11943.1</td>\n    </tr>\n    <tr>\n      <th>4</th>\n      <td>2015-08-11</td>\n      <td>0.708087</td>\n      <td>1.131410</td>\n      <td>0.663235</td>\n      <td>1.067860</td>\n      <td>1.067860</td>\n      <td>1463100.0</td>\n      <td>1.822470e+13</td>\n      <td>1.041462</td>\n      <td>11955.2</td>\n    </tr>\n  </tbody>\n</table>\n</div>"
     },
     "execution_count": 33,
     "metadata": {},
     "output_type": "execute_result"
    }
   ],
   "source": [
    "# Data Manipulation\n",
    "import numpy as np\n",
    "import pandas as pd\n",
    "\n",
    "# Plotting graphs\n",
    "import matplotlib.pyplot as plt\n",
    "\n",
    "# Machine learning\n",
    "from sklearn.linear_model import LogisticRegression\n",
    "from sklearn import metrics\n",
    "from sklearn.model_selection import cross_val_score\n",
    "\n",
    "df = pd.read_csv(\"Data/eth_clean_2.csv\")\n",
    "df.head()"
   ]
  },
  {
   "cell_type": "code",
   "execution_count": 34,
   "outputs": [
    {
     "data": {
      "text/plain": "             Open         High          Low        Close    Adj Close  \\\n18       1.228610     1.241820     1.128650     1.140190     1.140190   \n19       1.132790     1.202480     1.061830     1.159980     1.159980   \n20       1.169810     1.188830     1.137290     1.147700     1.147700   \n21       1.147660     1.207790     1.120500     1.191380     1.191380   \n22       1.193530     1.207210     1.149490     1.182550     1.182550   \n...           ...          ...          ...          ...          ...   \n2066  2117.728516  2133.187500  1945.442139  1971.077271  1971.077271   \n2067  1969.133179  2091.516357  1959.079468  2088.573730  2088.573730   \n2068  2088.772217  2102.873779  2055.163330  2072.108887  2072.108887   \n2069  2071.111572  2196.996338  2062.787598  2135.942139  2135.942139   \n2070  2143.174072  2164.046875  2120.289551  2160.133545  2160.133545   \n\n            Volume           GDP  inflation  MoneySupply         S_10  \\\n18    1.307180e+06  1.822470e+13   1.041462      12130.5     1.307904   \n19    1.056750e+06  1.822470e+13   1.041462      12140.9     1.267299   \n20    6.866620e+05  1.822470e+13   1.041462      12140.9     1.261708   \n21    7.218720e+05  1.822470e+13   1.041462      12140.9     1.272141   \n22    3.753770e+05  1.822470e+13   1.041462      12140.9     1.264510   \n...            ...           ...        ...          ...          ...   \n2066  3.611627e+10  2.143320e+13   2.000000      18548.7  2002.347180   \n2067  2.531296e+10  2.143320e+13   2.000000      18548.7  2029.236059   \n2068  1.981247e+10  2.143320e+13   2.000000      18548.7  2051.843579   \n2069  2.498624e+10  2.143320e+13   2.000000      18548.7  2073.601587   \n2070  2.042438e+10  2.143320e+13   2.000000      18548.7  2091.887256   \n\n          Corr  Open-Close   Open-Open  \n18    0.789666   -0.002660   -0.116980  \n19    0.875566   -0.007400   -0.095820  \n20    0.911504    0.009830    0.037020  \n21    0.909849   -0.000040   -0.022150  \n22    0.910740    0.002150    0.045870  \n...        ...         ...         ...  \n2066  0.653365   -0.650390    8.235352  \n2067  0.587182   -1.944092 -148.595337  \n2068  0.418043    0.198487  119.639038  \n2069  0.263198   -0.997315  -17.660645  \n2070  0.116020    7.231933   72.062500  \n\n[2053 rows x 13 columns]",
      "text/html": "<div>\n<style scoped>\n    .dataframe tbody tr th:only-of-type {\n        vertical-align: middle;\n    }\n\n    .dataframe tbody tr th {\n        vertical-align: top;\n    }\n\n    .dataframe thead th {\n        text-align: right;\n    }\n</style>\n<table border=\"1\" class=\"dataframe\">\n  <thead>\n    <tr style=\"text-align: right;\">\n      <th></th>\n      <th>Open</th>\n      <th>High</th>\n      <th>Low</th>\n      <th>Close</th>\n      <th>Adj Close</th>\n      <th>Volume</th>\n      <th>GDP</th>\n      <th>inflation</th>\n      <th>MoneySupply</th>\n      <th>S_10</th>\n      <th>Corr</th>\n      <th>Open-Close</th>\n      <th>Open-Open</th>\n    </tr>\n  </thead>\n  <tbody>\n    <tr>\n      <th>18</th>\n      <td>1.228610</td>\n      <td>1.241820</td>\n      <td>1.128650</td>\n      <td>1.140190</td>\n      <td>1.140190</td>\n      <td>1.307180e+06</td>\n      <td>1.822470e+13</td>\n      <td>1.041462</td>\n      <td>12130.5</td>\n      <td>1.307904</td>\n      <td>0.789666</td>\n      <td>-0.002660</td>\n      <td>-0.116980</td>\n    </tr>\n    <tr>\n      <th>19</th>\n      <td>1.132790</td>\n      <td>1.202480</td>\n      <td>1.061830</td>\n      <td>1.159980</td>\n      <td>1.159980</td>\n      <td>1.056750e+06</td>\n      <td>1.822470e+13</td>\n      <td>1.041462</td>\n      <td>12140.9</td>\n      <td>1.267299</td>\n      <td>0.875566</td>\n      <td>-0.007400</td>\n      <td>-0.095820</td>\n    </tr>\n    <tr>\n      <th>20</th>\n      <td>1.169810</td>\n      <td>1.188830</td>\n      <td>1.137290</td>\n      <td>1.147700</td>\n      <td>1.147700</td>\n      <td>6.866620e+05</td>\n      <td>1.822470e+13</td>\n      <td>1.041462</td>\n      <td>12140.9</td>\n      <td>1.261708</td>\n      <td>0.911504</td>\n      <td>0.009830</td>\n      <td>0.037020</td>\n    </tr>\n    <tr>\n      <th>21</th>\n      <td>1.147660</td>\n      <td>1.207790</td>\n      <td>1.120500</td>\n      <td>1.191380</td>\n      <td>1.191380</td>\n      <td>7.218720e+05</td>\n      <td>1.822470e+13</td>\n      <td>1.041462</td>\n      <td>12140.9</td>\n      <td>1.272141</td>\n      <td>0.909849</td>\n      <td>-0.000040</td>\n      <td>-0.022150</td>\n    </tr>\n    <tr>\n      <th>22</th>\n      <td>1.193530</td>\n      <td>1.207210</td>\n      <td>1.149490</td>\n      <td>1.182550</td>\n      <td>1.182550</td>\n      <td>3.753770e+05</td>\n      <td>1.822470e+13</td>\n      <td>1.041462</td>\n      <td>12140.9</td>\n      <td>1.264510</td>\n      <td>0.910740</td>\n      <td>0.002150</td>\n      <td>0.045870</td>\n    </tr>\n    <tr>\n      <th>...</th>\n      <td>...</td>\n      <td>...</td>\n      <td>...</td>\n      <td>...</td>\n      <td>...</td>\n      <td>...</td>\n      <td>...</td>\n      <td>...</td>\n      <td>...</td>\n      <td>...</td>\n      <td>...</td>\n      <td>...</td>\n      <td>...</td>\n    </tr>\n    <tr>\n      <th>2066</th>\n      <td>2117.728516</td>\n      <td>2133.187500</td>\n      <td>1945.442139</td>\n      <td>1971.077271</td>\n      <td>1971.077271</td>\n      <td>3.611627e+10</td>\n      <td>2.143320e+13</td>\n      <td>2.000000</td>\n      <td>18548.7</td>\n      <td>2002.347180</td>\n      <td>0.653365</td>\n      <td>-0.650390</td>\n      <td>8.235352</td>\n    </tr>\n    <tr>\n      <th>2067</th>\n      <td>1969.133179</td>\n      <td>2091.516357</td>\n      <td>1959.079468</td>\n      <td>2088.573730</td>\n      <td>2088.573730</td>\n      <td>2.531296e+10</td>\n      <td>2.143320e+13</td>\n      <td>2.000000</td>\n      <td>18548.7</td>\n      <td>2029.236059</td>\n      <td>0.587182</td>\n      <td>-1.944092</td>\n      <td>-148.595337</td>\n    </tr>\n    <tr>\n      <th>2068</th>\n      <td>2088.772217</td>\n      <td>2102.873779</td>\n      <td>2055.163330</td>\n      <td>2072.108887</td>\n      <td>2072.108887</td>\n      <td>1.981247e+10</td>\n      <td>2.143320e+13</td>\n      <td>2.000000</td>\n      <td>18548.7</td>\n      <td>2051.843579</td>\n      <td>0.418043</td>\n      <td>0.198487</td>\n      <td>119.639038</td>\n    </tr>\n    <tr>\n      <th>2069</th>\n      <td>2071.111572</td>\n      <td>2196.996338</td>\n      <td>2062.787598</td>\n      <td>2135.942139</td>\n      <td>2135.942139</td>\n      <td>2.498624e+10</td>\n      <td>2.143320e+13</td>\n      <td>2.000000</td>\n      <td>18548.7</td>\n      <td>2073.601587</td>\n      <td>0.263198</td>\n      <td>-0.997315</td>\n      <td>-17.660645</td>\n    </tr>\n    <tr>\n      <th>2070</th>\n      <td>2143.174072</td>\n      <td>2164.046875</td>\n      <td>2120.289551</td>\n      <td>2160.133545</td>\n      <td>2160.133545</td>\n      <td>2.042438e+10</td>\n      <td>2.143320e+13</td>\n      <td>2.000000</td>\n      <td>18548.7</td>\n      <td>2091.887256</td>\n      <td>0.116020</td>\n      <td>7.231933</td>\n      <td>72.062500</td>\n    </tr>\n  </tbody>\n</table>\n<p>2053 rows × 13 columns</p>\n</div>"
     },
     "execution_count": 34,
     "metadata": {},
     "output_type": "execute_result"
    }
   ],
   "source": [
    "df['S_10'] = df['Close'].rolling(window=10).mean()\n",
    "df['Corr'] = df['Close'].rolling(window=10).corr(df['S_10'])\n",
    "df['Open-Close'] = df['Open'] - df['Close'].shift(1)\n",
    "df['Open-Open'] = df['Open'] - df['Open'].shift(1)\n",
    "df = df.dropna()\n",
    "y = np.where(df['Close'].shift(-1) > df['Close'],1,-1)\n",
    "df = df.drop(['Date'],axis=1)\n",
    "df"
   ],
   "metadata": {
    "collapsed": false,
    "pycharm": {
     "name": "#%%\n"
    }
   }
  },
  {
   "cell_type": "code",
   "execution_count": 35,
   "outputs": [],
   "source": [
    "from sklearn.model_selection import train_test_split\n",
    "\n",
    "X = df\n",
    "split = int(0.5*len(df))\n",
    "X_train, X_test, y_train, y_test = train_test_split(X,y, test_size=0.30,\n",
    "                                                    random_state=101)\n",
    "\n",
    "model = LogisticRegression()\n",
    "model = model.fit (X_train,y_train)"
   ],
   "metadata": {
    "collapsed": false,
    "pycharm": {
     "name": "#%%\n"
    }
   }
  },
  {
   "cell_type": "code",
   "execution_count": 36,
   "outputs": [
    {
     "data": {
      "text/plain": "              0                          1\n0          Open    [2.665682702714765e-19]\n1          High   [2.7578435870802125e-19]\n2           Low   [2.3032301789460732e-19]\n3         Close    [2.406857025656984e-19]\n4     Adj Close    [2.406857025656984e-19]\n5        Volume   [1.2359261186578687e-11]\n6           GDP   [-2.575993706648313e-15]\n7     inflation   [1.3910700414028183e-22]\n8   MoneySupply     [2.45255846177277e-18]\n9          S_10   [2.3713471284973746e-19]\n10         Corr     [2.55065271626068e-22]\n11   Open-Close  [-2.0289778793510274e-21]\n12    Open-Open    [3.049396623712645e-21]",
      "text/html": "<div>\n<style scoped>\n    .dataframe tbody tr th:only-of-type {\n        vertical-align: middle;\n    }\n\n    .dataframe tbody tr th {\n        vertical-align: top;\n    }\n\n    .dataframe thead th {\n        text-align: right;\n    }\n</style>\n<table border=\"1\" class=\"dataframe\">\n  <thead>\n    <tr style=\"text-align: right;\">\n      <th></th>\n      <th>0</th>\n      <th>1</th>\n    </tr>\n  </thead>\n  <tbody>\n    <tr>\n      <th>0</th>\n      <td>Open</td>\n      <td>[2.665682702714765e-19]</td>\n    </tr>\n    <tr>\n      <th>1</th>\n      <td>High</td>\n      <td>[2.7578435870802125e-19]</td>\n    </tr>\n    <tr>\n      <th>2</th>\n      <td>Low</td>\n      <td>[2.3032301789460732e-19]</td>\n    </tr>\n    <tr>\n      <th>3</th>\n      <td>Close</td>\n      <td>[2.406857025656984e-19]</td>\n    </tr>\n    <tr>\n      <th>4</th>\n      <td>Adj Close</td>\n      <td>[2.406857025656984e-19]</td>\n    </tr>\n    <tr>\n      <th>5</th>\n      <td>Volume</td>\n      <td>[1.2359261186578687e-11]</td>\n    </tr>\n    <tr>\n      <th>6</th>\n      <td>GDP</td>\n      <td>[-2.575993706648313e-15]</td>\n    </tr>\n    <tr>\n      <th>7</th>\n      <td>inflation</td>\n      <td>[1.3910700414028183e-22]</td>\n    </tr>\n    <tr>\n      <th>8</th>\n      <td>MoneySupply</td>\n      <td>[2.45255846177277e-18]</td>\n    </tr>\n    <tr>\n      <th>9</th>\n      <td>S_10</td>\n      <td>[2.3713471284973746e-19]</td>\n    </tr>\n    <tr>\n      <th>10</th>\n      <td>Corr</td>\n      <td>[2.55065271626068e-22]</td>\n    </tr>\n    <tr>\n      <th>11</th>\n      <td>Open-Close</td>\n      <td>[-2.0289778793510274e-21]</td>\n    </tr>\n    <tr>\n      <th>12</th>\n      <td>Open-Open</td>\n      <td>[3.049396623712645e-21]</td>\n    </tr>\n  </tbody>\n</table>\n</div>"
     },
     "execution_count": 36,
     "metadata": {},
     "output_type": "execute_result"
    }
   ],
   "source": [
    "pd.DataFrame(zip(X.columns, np.transpose(model.coef_)))"
   ],
   "metadata": {
    "collapsed": false,
    "pycharm": {
     "name": "#%%\n"
    }
   }
  },
  {
   "cell_type": "code",
   "execution_count": 37,
   "outputs": [
    {
     "data": {
      "text/plain": "array([[0.50845442, 0.49154558],\n       [0.51253185, 0.48746815],\n       [0.46791565, 0.53208435],\n       ...,\n       [0.47661373, 0.52338627],\n       [0.51173044, 0.48826956],\n       [0.51175849, 0.48824151]])"
     },
     "execution_count": 37,
     "metadata": {},
     "output_type": "execute_result"
    }
   ],
   "source": [
    "probability = model.predict_proba(X_test)\n",
    "probability"
   ],
   "metadata": {
    "collapsed": false,
    "pycharm": {
     "name": "#%%\n"
    }
   }
  },
  {
   "cell_type": "code",
   "execution_count": 38,
   "outputs": [
    {
     "name": "stdout",
     "output_type": "stream",
     "text": [
      "[[0.50845442 0.49154558]\n",
      " [0.51253185 0.48746815]\n",
      " [0.46791565 0.53208435]\n",
      " ...\n",
      " [0.47661373 0.52338627]\n",
      " [0.51173044 0.48826956]\n",
      " [0.51175849 0.48824151]]\n"
     ]
    }
   ],
   "source": [
    "probability = model.predict_proba(X_test)\n",
    "print(probability)\n",
    "\n",
    "predicted = model.predict(X_test)"
   ],
   "metadata": {
    "collapsed": false,
    "pycharm": {
     "name": "#%%\n"
    }
   }
  },
  {
   "cell_type": "code",
   "execution_count": 39,
   "outputs": [
    {
     "name": "stdout",
     "output_type": "stream",
     "text": [
      "[[190 107]\n",
      " [192 127]]\n",
      "              precision    recall  f1-score   support\n",
      "\n",
      "          -1       0.50      0.64      0.56       297\n",
      "           1       0.54      0.40      0.46       319\n",
      "\n",
      "    accuracy                           0.51       616\n",
      "   macro avg       0.52      0.52      0.51       616\n",
      "weighted avg       0.52      0.51      0.51       616\n",
      "\n",
      "0.5146103896103896\n",
      "[0.50970874 0.49029126 0.50970874 0.51219512 0.51219512 0.52195122\n",
      " 0.56097561 0.50731707 0.50731707 0.50731707]\n",
      "0.5138977030547005\n"
     ]
    }
   ],
   "source": [
    "print(metrics.confusion_matrix(y_test, predicted))\n",
    "print(metrics.classification_report(y_test, predicted))\n",
    "print(model.score(X_test,y_test))\n",
    "cross_val = cross_val_score(LogisticRegression(), X, y, scoring='accuracy', cv=10)\n",
    "print(cross_val)\n",
    "print(cross_val.mean())"
   ],
   "metadata": {
    "collapsed": false,
    "pycharm": {
     "name": "#%%\n"
    }
   }
  },
  {
   "cell_type": "code",
   "execution_count": 40,
   "outputs": [
    {
     "data": {
      "text/plain": "array([-1, -1,  1, -1,  1, -1, -1,  1, -1, -1, -1, -1, -1, -1,  1, -1, -1,\n       -1,  1, -1,  1, -1, -1,  1,  1,  1, -1, -1, -1, -1, -1,  1, -1, -1,\n       -1,  1,  1, -1, -1, -1,  1,  1, -1, -1,  1,  1, -1,  1,  1, -1,  1,\n       -1,  1, -1, -1, -1, -1,  1,  1,  1, -1,  1,  1, -1,  1, -1, -1, -1,\n        1,  1,  1,  1, -1,  1, -1, -1,  1,  1, -1, -1, -1, -1,  1,  1, -1,\n        1, -1, -1,  1,  1, -1, -1,  1,  1,  1,  1,  1, -1,  1, -1, -1, -1,\n       -1,  1,  1,  1, -1, -1,  1, -1, -1, -1,  1,  1, -1, -1, -1,  1, -1,\n       -1, -1,  1,  1, -1, -1, -1,  1,  1, -1,  1,  1, -1, -1,  1, -1, -1,\n       -1,  1, -1, -1, -1, -1,  1, -1, -1, -1, -1,  1,  1, -1,  1, -1, -1,\n        1,  1, -1, -1, -1,  1,  1, -1,  1,  1,  1, -1,  1,  1, -1, -1, -1,\n       -1,  1,  1,  1, -1,  1, -1, -1, -1, -1,  1, -1, -1, -1, -1, -1, -1,\n        1,  1, -1,  1, -1,  1, -1,  1, -1, -1,  1, -1, -1,  1,  1,  1, -1,\n        1, -1,  1, -1, -1, -1,  1,  1, -1, -1, -1,  1, -1, -1, -1,  1, -1,\n        1, -1, -1, -1, -1, -1, -1, -1,  1, -1, -1, -1,  1, -1, -1, -1,  1,\n        1, -1,  1,  1,  1, -1, -1,  1,  1, -1, -1, -1, -1, -1,  1, -1,  1,\n       -1,  1, -1, -1, -1,  1, -1, -1,  1, -1, -1,  1, -1, -1, -1, -1,  1,\n       -1,  1, -1,  1, -1,  1, -1,  1, -1,  1, -1, -1,  1,  1, -1,  1, -1,\n        1, -1,  1, -1, -1,  1, -1, -1,  1, -1,  1, -1, -1, -1,  1,  1,  1,\n        1, -1, -1,  1, -1, -1, -1, -1,  1,  1, -1, -1, -1,  1,  1, -1, -1,\n        1, -1, -1, -1, -1, -1,  1, -1, -1, -1, -1, -1, -1, -1,  1, -1,  1,\n        1, -1, -1,  1, -1,  1, -1, -1, -1, -1,  1,  1, -1, -1,  1, -1,  1,\n       -1,  1,  1, -1, -1, -1,  1, -1,  1,  1, -1, -1, -1, -1, -1,  1, -1,\n       -1, -1, -1,  1,  1, -1, -1, -1, -1, -1,  1, -1,  1,  1, -1, -1, -1,\n       -1, -1, -1, -1, -1,  1, -1, -1, -1,  1, -1, -1, -1,  1, -1,  1, -1,\n       -1,  1, -1, -1, -1, -1, -1,  1,  1,  1, -1, -1, -1, -1, -1, -1, -1,\n        1,  1, -1, -1,  1, -1,  1, -1, -1,  1,  1, -1, -1, -1, -1,  1,  1,\n       -1, -1,  1, -1, -1, -1,  1, -1, -1, -1,  1, -1, -1, -1, -1, -1,  1,\n       -1, -1,  1, -1, -1, -1, -1,  1,  1, -1, -1, -1,  1, -1,  1, -1, -1,\n       -1, -1, -1,  1, -1,  1, -1,  1, -1,  1, -1, -1, -1, -1, -1, -1, -1,\n        1,  1,  1, -1,  1, -1, -1, -1,  1,  1, -1, -1, -1, -1,  1, -1, -1,\n       -1, -1,  1, -1,  1, -1, -1, -1,  1, -1,  1, -1, -1, -1, -1, -1, -1,\n       -1, -1,  1, -1, -1,  1,  1,  1, -1, -1, -1,  1, -1, -1, -1,  1, -1,\n        1, -1,  1,  1, -1,  1, -1, -1, -1, -1,  1,  1, -1, -1, -1,  1, -1,\n        1, -1, -1, -1,  1, -1, -1,  1, -1, -1, -1, -1,  1,  1, -1, -1, -1,\n        1,  1,  1, -1, -1,  1, -1,  1, -1,  1,  1,  1, -1,  1,  1,  1,  1,\n        1, -1,  1,  1, -1,  1,  1,  1,  1,  1, -1, -1, -1,  1,  1, -1, -1,\n       -1,  1, -1, -1])"
     },
     "execution_count": 40,
     "metadata": {},
     "output_type": "execute_result"
    }
   ],
   "source": [
    "y_test\n",
    "predicted"
   ],
   "metadata": {
    "collapsed": false,
    "pycharm": {
     "name": "#%%\n"
    }
   }
  }
 ],
 "metadata": {
  "kernelspec": {
   "display_name": "Python 3",
   "language": "python",
   "name": "python3"
  },
  "language_info": {
   "codemirror_mode": {
    "name": "ipython",
    "version": 2
   },
   "file_extension": ".py",
   "mimetype": "text/x-python",
   "name": "python",
   "nbconvert_exporter": "python",
   "pygments_lexer": "ipython2",
   "version": "2.7.6"
  }
 },
 "nbformat": 4,
 "nbformat_minor": 0
}