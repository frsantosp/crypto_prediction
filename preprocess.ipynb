{
 "cells": [
  {
   "cell_type": "code",
   "execution_count": 62,
   "metadata": {
    "collapsed": true
   },
   "outputs": [
    {
     "data": {
      "text/plain": "         Date        Open        High         Low       Close   Adj Close  \\\n0  2014-09-17  465.864014  468.174011  452.421997  457.334015  457.334015   \n1  2014-09-18  456.859985  456.859985  413.104004  424.440002  424.440002   \n2  2014-09-19  424.102997  427.834991  384.532013  394.795990  394.795990   \n3  2014-09-20  394.673004  423.295990  389.882996  408.903992  408.903992   \n4  2014-09-21  408.084991  412.425995  393.181000  398.821014  398.821014   \n5  2014-09-22  399.100006  406.915985  397.130005  402.152008  402.152008   \n6  2014-09-23  402.092010  441.557007  396.196991  435.790985  435.790985   \n7  2014-09-24  435.751007  436.112000  421.131989  423.204987  423.204987   \n8  2014-09-25  423.156006  423.519989  409.467987  411.574005  411.574005   \n9  2014-09-26  411.428986  414.937988  400.009003  404.424988  404.424988   \n\n       Volume  \n0  21056800.0  \n1  34483200.0  \n2  37919700.0  \n3  36863600.0  \n4  26580100.0  \n5  24127600.0  \n6  45099500.0  \n7  30627700.0  \n8  26814400.0  \n9  21460800.0  ",
      "text/html": "<div>\n<style scoped>\n    .dataframe tbody tr th:only-of-type {\n        vertical-align: middle;\n    }\n\n    .dataframe tbody tr th {\n        vertical-align: top;\n    }\n\n    .dataframe thead th {\n        text-align: right;\n    }\n</style>\n<table border=\"1\" class=\"dataframe\">\n  <thead>\n    <tr style=\"text-align: right;\">\n      <th></th>\n      <th>Date</th>\n      <th>Open</th>\n      <th>High</th>\n      <th>Low</th>\n      <th>Close</th>\n      <th>Adj Close</th>\n      <th>Volume</th>\n    </tr>\n  </thead>\n  <tbody>\n    <tr>\n      <th>0</th>\n      <td>2014-09-17</td>\n      <td>465.864014</td>\n      <td>468.174011</td>\n      <td>452.421997</td>\n      <td>457.334015</td>\n      <td>457.334015</td>\n      <td>21056800.0</td>\n    </tr>\n    <tr>\n      <th>1</th>\n      <td>2014-09-18</td>\n      <td>456.859985</td>\n      <td>456.859985</td>\n      <td>413.104004</td>\n      <td>424.440002</td>\n      <td>424.440002</td>\n      <td>34483200.0</td>\n    </tr>\n    <tr>\n      <th>2</th>\n      <td>2014-09-19</td>\n      <td>424.102997</td>\n      <td>427.834991</td>\n      <td>384.532013</td>\n      <td>394.795990</td>\n      <td>394.795990</td>\n      <td>37919700.0</td>\n    </tr>\n    <tr>\n      <th>3</th>\n      <td>2014-09-20</td>\n      <td>394.673004</td>\n      <td>423.295990</td>\n      <td>389.882996</td>\n      <td>408.903992</td>\n      <td>408.903992</td>\n      <td>36863600.0</td>\n    </tr>\n    <tr>\n      <th>4</th>\n      <td>2014-09-21</td>\n      <td>408.084991</td>\n      <td>412.425995</td>\n      <td>393.181000</td>\n      <td>398.821014</td>\n      <td>398.821014</td>\n      <td>26580100.0</td>\n    </tr>\n    <tr>\n      <th>5</th>\n      <td>2014-09-22</td>\n      <td>399.100006</td>\n      <td>406.915985</td>\n      <td>397.130005</td>\n      <td>402.152008</td>\n      <td>402.152008</td>\n      <td>24127600.0</td>\n    </tr>\n    <tr>\n      <th>6</th>\n      <td>2014-09-23</td>\n      <td>402.092010</td>\n      <td>441.557007</td>\n      <td>396.196991</td>\n      <td>435.790985</td>\n      <td>435.790985</td>\n      <td>45099500.0</td>\n    </tr>\n    <tr>\n      <th>7</th>\n      <td>2014-09-24</td>\n      <td>435.751007</td>\n      <td>436.112000</td>\n      <td>421.131989</td>\n      <td>423.204987</td>\n      <td>423.204987</td>\n      <td>30627700.0</td>\n    </tr>\n    <tr>\n      <th>8</th>\n      <td>2014-09-25</td>\n      <td>423.156006</td>\n      <td>423.519989</td>\n      <td>409.467987</td>\n      <td>411.574005</td>\n      <td>411.574005</td>\n      <td>26814400.0</td>\n    </tr>\n    <tr>\n      <th>9</th>\n      <td>2014-09-26</td>\n      <td>411.428986</td>\n      <td>414.937988</td>\n      <td>400.009003</td>\n      <td>404.424988</td>\n      <td>404.424988</td>\n      <td>21460800.0</td>\n    </tr>\n  </tbody>\n</table>\n</div>"
     },
     "execution_count": 62,
     "metadata": {},
     "output_type": "execute_result"
    }
   ],
   "source": [
    "import numpy as np\n",
    "import pandas as pd\n",
    "bitcoin_df = pd.read_csv(\"Data/BTC-USD.csv\")\n",
    "bitcoin_df.head(10)"
   ]
  },
  {
   "cell_type": "code",
   "execution_count": 63,
   "outputs": [
    {
     "data": {
      "text/plain": "[4, 4, 4, 4, 4, 4]"
     },
     "execution_count": 63,
     "metadata": {},
     "output_type": "execute_result"
    }
   ],
   "source": [
    "numNULL = bitcoin_df.isnull().sum().sum()\n",
    "nullOpen = bitcoin_df['Open'].isnull().sum()\n",
    "nullHigh = bitcoin_df['High'].isnull().sum()\n",
    "nullLow = bitcoin_df['Low'].isnull().sum()\n",
    "nullClose = bitcoin_df['Close'].isnull().sum()\n",
    "nullAdjClose = bitcoin_df['Adj Close'].isnull().sum()\n",
    "nullVol = bitcoin_df['Volume'].isnull().sum()\n",
    "nullTotal = [nullOpen, nullHigh, nullLow, nullClose, nullAdjClose, nullVol]\n",
    "nullTotal"
   ],
   "metadata": {
    "collapsed": false,
    "pycharm": {
     "name": "#%%\n"
    }
   }
  },
  {
   "cell_type": "code",
   "execution_count": 64,
   "outputs": [
    {
     "data": {
      "text/plain": "            Date  Open  High  Low  Close  Adj Close  Volume\n2039  2020-04-17   NaN   NaN  NaN    NaN        NaN     NaN\n2214  2020-10-09   NaN   NaN  NaN    NaN        NaN     NaN\n2217  2020-10-12   NaN   NaN  NaN    NaN        NaN     NaN\n2218  2020-10-13   NaN   NaN  NaN    NaN        NaN     NaN",
      "text/html": "<div>\n<style scoped>\n    .dataframe tbody tr th:only-of-type {\n        vertical-align: middle;\n    }\n\n    .dataframe tbody tr th {\n        vertical-align: top;\n    }\n\n    .dataframe thead th {\n        text-align: right;\n    }\n</style>\n<table border=\"1\" class=\"dataframe\">\n  <thead>\n    <tr style=\"text-align: right;\">\n      <th></th>\n      <th>Date</th>\n      <th>Open</th>\n      <th>High</th>\n      <th>Low</th>\n      <th>Close</th>\n      <th>Adj Close</th>\n      <th>Volume</th>\n    </tr>\n  </thead>\n  <tbody>\n    <tr>\n      <th>2039</th>\n      <td>2020-04-17</td>\n      <td>NaN</td>\n      <td>NaN</td>\n      <td>NaN</td>\n      <td>NaN</td>\n      <td>NaN</td>\n      <td>NaN</td>\n    </tr>\n    <tr>\n      <th>2214</th>\n      <td>2020-10-09</td>\n      <td>NaN</td>\n      <td>NaN</td>\n      <td>NaN</td>\n      <td>NaN</td>\n      <td>NaN</td>\n      <td>NaN</td>\n    </tr>\n    <tr>\n      <th>2217</th>\n      <td>2020-10-12</td>\n      <td>NaN</td>\n      <td>NaN</td>\n      <td>NaN</td>\n      <td>NaN</td>\n      <td>NaN</td>\n      <td>NaN</td>\n    </tr>\n    <tr>\n      <th>2218</th>\n      <td>2020-10-13</td>\n      <td>NaN</td>\n      <td>NaN</td>\n      <td>NaN</td>\n      <td>NaN</td>\n      <td>NaN</td>\n      <td>NaN</td>\n    </tr>\n  </tbody>\n</table>\n</div>"
     },
     "execution_count": 64,
     "metadata": {},
     "output_type": "execute_result"
    }
   ],
   "source": [
    "null = bitcoin_df.loc[bitcoin_df['Open'].isnull()]\n",
    "null"
   ],
   "metadata": {
    "collapsed": false,
    "pycharm": {
     "name": "#%%\n"
    }
   }
  },
  {
   "cell_type": "code",
   "execution_count": 65,
   "outputs": [
    {
     "data": {
      "text/plain": "Empty DataFrame\nColumns: [Date, Open, High, Low, Close, Adj Close, Volume]\nIndex: []",
      "text/html": "<div>\n<style scoped>\n    .dataframe tbody tr th:only-of-type {\n        vertical-align: middle;\n    }\n\n    .dataframe tbody tr th {\n        vertical-align: top;\n    }\n\n    .dataframe thead th {\n        text-align: right;\n    }\n</style>\n<table border=\"1\" class=\"dataframe\">\n  <thead>\n    <tr style=\"text-align: right;\">\n      <th></th>\n      <th>Date</th>\n      <th>Open</th>\n      <th>High</th>\n      <th>Low</th>\n      <th>Close</th>\n      <th>Adj Close</th>\n      <th>Volume</th>\n    </tr>\n  </thead>\n  <tbody>\n  </tbody>\n</table>\n</div>"
     },
     "execution_count": 65,
     "metadata": {},
     "output_type": "execute_result"
    }
   ],
   "source": [
    "bitcoin_df = bitcoin_df.drop([2039,2214,2217,2218])\n",
    "null = bitcoin_df.loc[bitcoin_df['Open'].isnull()]\n",
    "null"
   ],
   "metadata": {
    "collapsed": false,
    "pycharm": {
     "name": "#%%\n"
    }
   }
  },
  {
   "cell_type": "code",
   "execution_count": 66,
   "outputs": [],
   "source": [
    "bitcoin_df.to_csv(r'Data/btc_clean.csv',index=False)\n"
   ],
   "metadata": {
    "collapsed": false,
    "pycharm": {
     "name": "#%%\n"
    }
   }
  },
  {
   "cell_type": "code",
   "execution_count": 67,
   "outputs": [
    {
     "data": {
      "text/plain": "         Date     Open     High      Low    Close  Adj Close     Volume\n0  2014-09-17  5.08589  5.17077  4.96595  5.05855    5.05855  3071840.0\n1  2014-09-18  5.06543  5.06543  4.57996  4.68523    4.68523  4569260.0\n2  2014-09-19  4.68729  4.75582  4.25435  4.32777    4.32777  3917450.0\n3  2014-09-20  4.32920  4.61608  4.20219  4.28644    4.28644  5490660.0\n4  2014-09-21  4.26307  4.30013  4.15499  4.24592    4.24592  2931220.0\n5  2014-09-22  4.24593  4.41688  4.21013  4.24235    4.24235  1855960.0\n6  2014-09-23  4.23999  4.88135  4.18887  4.74657    4.74657  4661670.0\n7  2014-09-24  4.74420  4.74512  4.62769  4.66679    4.66679  2662290.0\n8  2014-09-25  4.66588  4.67132  4.44870  4.51465    4.51465  2046960.0\n9  2014-09-26  4.50993  4.55182  4.38880  4.43359    4.43359  1548350.0",
      "text/html": "<div>\n<style scoped>\n    .dataframe tbody tr th:only-of-type {\n        vertical-align: middle;\n    }\n\n    .dataframe tbody tr th {\n        vertical-align: top;\n    }\n\n    .dataframe thead th {\n        text-align: right;\n    }\n</style>\n<table border=\"1\" class=\"dataframe\">\n  <thead>\n    <tr style=\"text-align: right;\">\n      <th></th>\n      <th>Date</th>\n      <th>Open</th>\n      <th>High</th>\n      <th>Low</th>\n      <th>Close</th>\n      <th>Adj Close</th>\n      <th>Volume</th>\n    </tr>\n  </thead>\n  <tbody>\n    <tr>\n      <th>0</th>\n      <td>2014-09-17</td>\n      <td>5.08589</td>\n      <td>5.17077</td>\n      <td>4.96595</td>\n      <td>5.05855</td>\n      <td>5.05855</td>\n      <td>3071840.0</td>\n    </tr>\n    <tr>\n      <th>1</th>\n      <td>2014-09-18</td>\n      <td>5.06543</td>\n      <td>5.06543</td>\n      <td>4.57996</td>\n      <td>4.68523</td>\n      <td>4.68523</td>\n      <td>4569260.0</td>\n    </tr>\n    <tr>\n      <th>2</th>\n      <td>2014-09-19</td>\n      <td>4.68729</td>\n      <td>4.75582</td>\n      <td>4.25435</td>\n      <td>4.32777</td>\n      <td>4.32777</td>\n      <td>3917450.0</td>\n    </tr>\n    <tr>\n      <th>3</th>\n      <td>2014-09-20</td>\n      <td>4.32920</td>\n      <td>4.61608</td>\n      <td>4.20219</td>\n      <td>4.28644</td>\n      <td>4.28644</td>\n      <td>5490660.0</td>\n    </tr>\n    <tr>\n      <th>4</th>\n      <td>2014-09-21</td>\n      <td>4.26307</td>\n      <td>4.30013</td>\n      <td>4.15499</td>\n      <td>4.24592</td>\n      <td>4.24592</td>\n      <td>2931220.0</td>\n    </tr>\n    <tr>\n      <th>5</th>\n      <td>2014-09-22</td>\n      <td>4.24593</td>\n      <td>4.41688</td>\n      <td>4.21013</td>\n      <td>4.24235</td>\n      <td>4.24235</td>\n      <td>1855960.0</td>\n    </tr>\n    <tr>\n      <th>6</th>\n      <td>2014-09-23</td>\n      <td>4.23999</td>\n      <td>4.88135</td>\n      <td>4.18887</td>\n      <td>4.74657</td>\n      <td>4.74657</td>\n      <td>4661670.0</td>\n    </tr>\n    <tr>\n      <th>7</th>\n      <td>2014-09-24</td>\n      <td>4.74420</td>\n      <td>4.74512</td>\n      <td>4.62769</td>\n      <td>4.66679</td>\n      <td>4.66679</td>\n      <td>2662290.0</td>\n    </tr>\n    <tr>\n      <th>8</th>\n      <td>2014-09-25</td>\n      <td>4.66588</td>\n      <td>4.67132</td>\n      <td>4.44870</td>\n      <td>4.51465</td>\n      <td>4.51465</td>\n      <td>2046960.0</td>\n    </tr>\n    <tr>\n      <th>9</th>\n      <td>2014-09-26</td>\n      <td>4.50993</td>\n      <td>4.55182</td>\n      <td>4.38880</td>\n      <td>4.43359</td>\n      <td>4.43359</td>\n      <td>1548350.0</td>\n    </tr>\n  </tbody>\n</table>\n</div>"
     },
     "execution_count": 67,
     "metadata": {},
     "output_type": "execute_result"
    }
   ],
   "source": [
    "import pandas as pd\n",
    "lit_df = pd.read_csv(\"Data/LTC-USD.csv\")\n",
    "lit_df.head(10)"
   ],
   "metadata": {
    "collapsed": false,
    "pycharm": {
     "name": "#%%\n"
    }
   }
  },
  {
   "cell_type": "code",
   "execution_count": 68,
   "outputs": [
    {
     "data": {
      "text/plain": "[4, 4, 4, 4, 4, 4]"
     },
     "execution_count": 68,
     "metadata": {},
     "output_type": "execute_result"
    }
   ],
   "source": [
    "numNULL = lit_df.isnull().sum().sum()\n",
    "nullOpen = lit_df['Open'].isnull().sum()\n",
    "nullHigh = lit_df['High'].isnull().sum()\n",
    "nullLow = lit_df['Low'].isnull().sum()\n",
    "nullClose = lit_df['Close'].isnull().sum()\n",
    "nullAdjClose = lit_df['Adj Close'].isnull().sum()\n",
    "nullVol = lit_df['Volume'].isnull().sum()\n",
    "nullTotal = [nullOpen, nullHigh, nullLow, nullClose, nullAdjClose, nullVol]\n",
    "nullTotal\n"
   ],
   "metadata": {
    "collapsed": false,
    "pycharm": {
     "name": "#%%\n"
    }
   }
  },
  {
   "cell_type": "code",
   "execution_count": 69,
   "outputs": [
    {
     "data": {
      "text/plain": "            Date  Open  High  Low  Close  Adj Close  Volume\n2039  2020-04-17   NaN   NaN  NaN    NaN        NaN     NaN\n2214  2020-10-09   NaN   NaN  NaN    NaN        NaN     NaN\n2217  2020-10-12   NaN   NaN  NaN    NaN        NaN     NaN\n2218  2020-10-13   NaN   NaN  NaN    NaN        NaN     NaN",
      "text/html": "<div>\n<style scoped>\n    .dataframe tbody tr th:only-of-type {\n        vertical-align: middle;\n    }\n\n    .dataframe tbody tr th {\n        vertical-align: top;\n    }\n\n    .dataframe thead th {\n        text-align: right;\n    }\n</style>\n<table border=\"1\" class=\"dataframe\">\n  <thead>\n    <tr style=\"text-align: right;\">\n      <th></th>\n      <th>Date</th>\n      <th>Open</th>\n      <th>High</th>\n      <th>Low</th>\n      <th>Close</th>\n      <th>Adj Close</th>\n      <th>Volume</th>\n    </tr>\n  </thead>\n  <tbody>\n    <tr>\n      <th>2039</th>\n      <td>2020-04-17</td>\n      <td>NaN</td>\n      <td>NaN</td>\n      <td>NaN</td>\n      <td>NaN</td>\n      <td>NaN</td>\n      <td>NaN</td>\n    </tr>\n    <tr>\n      <th>2214</th>\n      <td>2020-10-09</td>\n      <td>NaN</td>\n      <td>NaN</td>\n      <td>NaN</td>\n      <td>NaN</td>\n      <td>NaN</td>\n      <td>NaN</td>\n    </tr>\n    <tr>\n      <th>2217</th>\n      <td>2020-10-12</td>\n      <td>NaN</td>\n      <td>NaN</td>\n      <td>NaN</td>\n      <td>NaN</td>\n      <td>NaN</td>\n      <td>NaN</td>\n    </tr>\n    <tr>\n      <th>2218</th>\n      <td>2020-10-13</td>\n      <td>NaN</td>\n      <td>NaN</td>\n      <td>NaN</td>\n      <td>NaN</td>\n      <td>NaN</td>\n      <td>NaN</td>\n    </tr>\n  </tbody>\n</table>\n</div>"
     },
     "execution_count": 69,
     "metadata": {},
     "output_type": "execute_result"
    }
   ],
   "source": [
    "null = lit_df.loc[lit_df['Open'].isnull()]\n",
    "null\n"
   ],
   "metadata": {
    "collapsed": false,
    "pycharm": {
     "name": "#%%\n"
    }
   }
  },
  {
   "cell_type": "code",
   "execution_count": 70,
   "outputs": [
    {
     "data": {
      "text/plain": "Empty DataFrame\nColumns: [Date, Open, High, Low, Close, Adj Close, Volume]\nIndex: []",
      "text/html": "<div>\n<style scoped>\n    .dataframe tbody tr th:only-of-type {\n        vertical-align: middle;\n    }\n\n    .dataframe tbody tr th {\n        vertical-align: top;\n    }\n\n    .dataframe thead th {\n        text-align: right;\n    }\n</style>\n<table border=\"1\" class=\"dataframe\">\n  <thead>\n    <tr style=\"text-align: right;\">\n      <th></th>\n      <th>Date</th>\n      <th>Open</th>\n      <th>High</th>\n      <th>Low</th>\n      <th>Close</th>\n      <th>Adj Close</th>\n      <th>Volume</th>\n    </tr>\n  </thead>\n  <tbody>\n  </tbody>\n</table>\n</div>"
     },
     "execution_count": 70,
     "metadata": {},
     "output_type": "execute_result"
    }
   ],
   "source": [
    "lit_df = lit_df.drop([2039,2214,2217,2218])\n",
    "null = lit_df.loc[lit_df['Open'].isnull()]\n",
    "null"
   ],
   "metadata": {
    "collapsed": false,
    "pycharm": {
     "name": "#%%\n"
    }
   }
  },
  {
   "cell_type": "code",
   "execution_count": 71,
   "outputs": [],
   "source": [
    "lit_df.to_csv(r'Data/ltc_clean.csv',index=False)"
   ],
   "metadata": {
    "collapsed": false,
    "pycharm": {
     "name": "#%%\n"
    }
   }
  },
  {
   "cell_type": "code",
   "execution_count": 72,
   "outputs": [
    {
     "data": {
      "text/plain": "         Date      Open      High       Low     Close  Adj Close     Volume\n0  2015-08-07  2.831620  3.536610  2.521120  2.772120   2.772120   164329.0\n1  2015-08-08  2.793760  2.798810  0.714725  0.753325   0.753325   674188.0\n2  2015-08-09  0.706136  0.879810  0.629191  0.701897   0.701897   532170.0\n3  2015-08-10  0.713989  0.729854  0.636546  0.708448   0.708448   405283.0\n4  2015-08-11  0.708087  1.131410  0.663235  1.067860   1.067860  1463100.0\n5  2015-08-12  1.058750  1.289940  0.883608  1.217440   1.217440  2150620.0\n6  2015-08-13  1.222240  1.965070  1.171990  1.827670   1.827670  4068680.0\n7  2015-08-14  1.810920  2.261880  1.754750  1.827870   1.827870  4637030.0\n8  2015-08-15  1.802890  1.877240  1.570980  1.688900   1.688900  2554360.0\n9  2015-08-16  1.684350  1.695240  1.089810  1.566030   1.566030  3550790.0",
      "text/html": "<div>\n<style scoped>\n    .dataframe tbody tr th:only-of-type {\n        vertical-align: middle;\n    }\n\n    .dataframe tbody tr th {\n        vertical-align: top;\n    }\n\n    .dataframe thead th {\n        text-align: right;\n    }\n</style>\n<table border=\"1\" class=\"dataframe\">\n  <thead>\n    <tr style=\"text-align: right;\">\n      <th></th>\n      <th>Date</th>\n      <th>Open</th>\n      <th>High</th>\n      <th>Low</th>\n      <th>Close</th>\n      <th>Adj Close</th>\n      <th>Volume</th>\n    </tr>\n  </thead>\n  <tbody>\n    <tr>\n      <th>0</th>\n      <td>2015-08-07</td>\n      <td>2.831620</td>\n      <td>3.536610</td>\n      <td>2.521120</td>\n      <td>2.772120</td>\n      <td>2.772120</td>\n      <td>164329.0</td>\n    </tr>\n    <tr>\n      <th>1</th>\n      <td>2015-08-08</td>\n      <td>2.793760</td>\n      <td>2.798810</td>\n      <td>0.714725</td>\n      <td>0.753325</td>\n      <td>0.753325</td>\n      <td>674188.0</td>\n    </tr>\n    <tr>\n      <th>2</th>\n      <td>2015-08-09</td>\n      <td>0.706136</td>\n      <td>0.879810</td>\n      <td>0.629191</td>\n      <td>0.701897</td>\n      <td>0.701897</td>\n      <td>532170.0</td>\n    </tr>\n    <tr>\n      <th>3</th>\n      <td>2015-08-10</td>\n      <td>0.713989</td>\n      <td>0.729854</td>\n      <td>0.636546</td>\n      <td>0.708448</td>\n      <td>0.708448</td>\n      <td>405283.0</td>\n    </tr>\n    <tr>\n      <th>4</th>\n      <td>2015-08-11</td>\n      <td>0.708087</td>\n      <td>1.131410</td>\n      <td>0.663235</td>\n      <td>1.067860</td>\n      <td>1.067860</td>\n      <td>1463100.0</td>\n    </tr>\n    <tr>\n      <th>5</th>\n      <td>2015-08-12</td>\n      <td>1.058750</td>\n      <td>1.289940</td>\n      <td>0.883608</td>\n      <td>1.217440</td>\n      <td>1.217440</td>\n      <td>2150620.0</td>\n    </tr>\n    <tr>\n      <th>6</th>\n      <td>2015-08-13</td>\n      <td>1.222240</td>\n      <td>1.965070</td>\n      <td>1.171990</td>\n      <td>1.827670</td>\n      <td>1.827670</td>\n      <td>4068680.0</td>\n    </tr>\n    <tr>\n      <th>7</th>\n      <td>2015-08-14</td>\n      <td>1.810920</td>\n      <td>2.261880</td>\n      <td>1.754750</td>\n      <td>1.827870</td>\n      <td>1.827870</td>\n      <td>4637030.0</td>\n    </tr>\n    <tr>\n      <th>8</th>\n      <td>2015-08-15</td>\n      <td>1.802890</td>\n      <td>1.877240</td>\n      <td>1.570980</td>\n      <td>1.688900</td>\n      <td>1.688900</td>\n      <td>2554360.0</td>\n    </tr>\n    <tr>\n      <th>9</th>\n      <td>2015-08-16</td>\n      <td>1.684350</td>\n      <td>1.695240</td>\n      <td>1.089810</td>\n      <td>1.566030</td>\n      <td>1.566030</td>\n      <td>3550790.0</td>\n    </tr>\n  </tbody>\n</table>\n</div>"
     },
     "execution_count": 72,
     "metadata": {},
     "output_type": "execute_result"
    }
   ],
   "source": [
    "import pandas as pd\n",
    "eth_df = pd.read_csv(\"Data/ETH-USD.csv\")\n",
    "eth_df.head(10)"
   ],
   "metadata": {
    "collapsed": false,
    "pycharm": {
     "name": "#%%\n"
    }
   }
  },
  {
   "cell_type": "code",
   "execution_count": 73,
   "outputs": [
    {
     "data": {
      "text/plain": "[4, 4, 4, 4, 4, 4]"
     },
     "execution_count": 73,
     "metadata": {},
     "output_type": "execute_result"
    }
   ],
   "source": [
    "numNULL = eth_df.isnull().sum().sum()\n",
    "nullOpen = eth_df['Open'].isnull().sum()\n",
    "nullHigh = eth_df['High'].isnull().sum()\n",
    "nullLow = eth_df['Low'].isnull().sum()\n",
    "nullClose = eth_df['Close'].isnull().sum()\n",
    "nullAdjClose = eth_df['Adj Close'].isnull().sum()\n",
    "nullVol = eth_df['Volume'].isnull().sum()\n",
    "nullTotal = [nullOpen, nullHigh, nullLow, nullClose, nullAdjClose, nullVol]\n",
    "nullTotal\n"
   ],
   "metadata": {
    "collapsed": false,
    "pycharm": {
     "name": "#%%\n"
    }
   }
  },
  {
   "cell_type": "code",
   "execution_count": 74,
   "outputs": [
    {
     "data": {
      "text/plain": "            Date  Open  High  Low  Close  Adj Close  Volume\n1715  2020-04-17   NaN   NaN  NaN    NaN        NaN     NaN\n1890  2020-10-09   NaN   NaN  NaN    NaN        NaN     NaN\n1893  2020-10-12   NaN   NaN  NaN    NaN        NaN     NaN\n1894  2020-10-13   NaN   NaN  NaN    NaN        NaN     NaN",
      "text/html": "<div>\n<style scoped>\n    .dataframe tbody tr th:only-of-type {\n        vertical-align: middle;\n    }\n\n    .dataframe tbody tr th {\n        vertical-align: top;\n    }\n\n    .dataframe thead th {\n        text-align: right;\n    }\n</style>\n<table border=\"1\" class=\"dataframe\">\n  <thead>\n    <tr style=\"text-align: right;\">\n      <th></th>\n      <th>Date</th>\n      <th>Open</th>\n      <th>High</th>\n      <th>Low</th>\n      <th>Close</th>\n      <th>Adj Close</th>\n      <th>Volume</th>\n    </tr>\n  </thead>\n  <tbody>\n    <tr>\n      <th>1715</th>\n      <td>2020-04-17</td>\n      <td>NaN</td>\n      <td>NaN</td>\n      <td>NaN</td>\n      <td>NaN</td>\n      <td>NaN</td>\n      <td>NaN</td>\n    </tr>\n    <tr>\n      <th>1890</th>\n      <td>2020-10-09</td>\n      <td>NaN</td>\n      <td>NaN</td>\n      <td>NaN</td>\n      <td>NaN</td>\n      <td>NaN</td>\n      <td>NaN</td>\n    </tr>\n    <tr>\n      <th>1893</th>\n      <td>2020-10-12</td>\n      <td>NaN</td>\n      <td>NaN</td>\n      <td>NaN</td>\n      <td>NaN</td>\n      <td>NaN</td>\n      <td>NaN</td>\n    </tr>\n    <tr>\n      <th>1894</th>\n      <td>2020-10-13</td>\n      <td>NaN</td>\n      <td>NaN</td>\n      <td>NaN</td>\n      <td>NaN</td>\n      <td>NaN</td>\n      <td>NaN</td>\n    </tr>\n  </tbody>\n</table>\n</div>"
     },
     "execution_count": 74,
     "metadata": {},
     "output_type": "execute_result"
    }
   ],
   "source": [
    "null = eth_df.loc[eth_df['Open'].isnull()]\n",
    "null"
   ],
   "metadata": {
    "collapsed": false,
    "pycharm": {
     "name": "#%%\n"
    }
   }
  },
  {
   "cell_type": "code",
   "execution_count": 75,
   "outputs": [
    {
     "data": {
      "text/plain": "Empty DataFrame\nColumns: [Date, Open, High, Low, Close, Adj Close, Volume]\nIndex: []",
      "text/html": "<div>\n<style scoped>\n    .dataframe tbody tr th:only-of-type {\n        vertical-align: middle;\n    }\n\n    .dataframe tbody tr th {\n        vertical-align: top;\n    }\n\n    .dataframe thead th {\n        text-align: right;\n    }\n</style>\n<table border=\"1\" class=\"dataframe\">\n  <thead>\n    <tr style=\"text-align: right;\">\n      <th></th>\n      <th>Date</th>\n      <th>Open</th>\n      <th>High</th>\n      <th>Low</th>\n      <th>Close</th>\n      <th>Adj Close</th>\n      <th>Volume</th>\n    </tr>\n  </thead>\n  <tbody>\n  </tbody>\n</table>\n</div>"
     },
     "execution_count": 75,
     "metadata": {},
     "output_type": "execute_result"
    }
   ],
   "source": [
    "eth_df = eth_df.drop([1715,1890,1893,1894])\n",
    "null = eth_df.loc[eth_df['Open'].isnull()]\n",
    "null"
   ],
   "metadata": {
    "collapsed": false,
    "pycharm": {
     "name": "#%%\n"
    }
   }
  },
  {
   "cell_type": "code",
   "execution_count": 76,
   "outputs": [],
   "source": [
    "eth_df.to_csv(r'Data/eth_clean.csv',index=False)"
   ],
   "metadata": {
    "collapsed": false,
    "pycharm": {
     "name": "#%%\n"
    }
   }
  },
  {
   "cell_type": "code",
   "execution_count": 77,
   "outputs": [
    {
     "data": {
      "text/plain": "            Date          Open          High           Low         Close  \\\n0     2014-09-17    465.864014    468.174011    452.421997    457.334015   \n1     2014-09-18    456.859985    456.859985    413.104004    424.440002   \n2     2014-09-19    424.102997    427.834991    384.532013    394.795990   \n3     2014-09-20    394.673004    423.295990    389.882996    408.903992   \n4     2014-09-21    408.084991    412.425995    393.181000    398.821014   \n...          ...           ...           ...           ...           ...   \n2394  2021-04-07  58186.507813  58731.144531  55604.023438  56048.937500   \n2395  2021-04-08  56099.914063  58338.738281  55879.085938  58323.953125   \n2396  2021-04-09  58326.562500  58937.046875  57807.863281  58245.003906   \n2397  2021-04-10  58253.777344  61276.664063  58038.707031  59793.234375   \n2398  2021-04-11  59832.035156  60741.066406  59362.312500  60055.707031   \n\n         Adj Close        Volume GDP inflation MoneySupply  \n0       457.334015  2.105680e+07                            \n1       424.440002  3.448320e+07                            \n2       394.795990  3.791970e+07                            \n3       408.903992  3.686360e+07                            \n4       398.821014  2.658010e+07                            \n...            ...           ...  ..       ...         ...  \n2394  56048.937500  7.564530e+10                            \n2395  58323.953125  5.305386e+10                            \n2396  58245.003906  4.665521e+10                            \n2397  59793.234375  5.823847e+10                            \n2398  60055.707031  4.802959e+10                            \n\n[2395 rows x 10 columns]",
      "text/html": "<div>\n<style scoped>\n    .dataframe tbody tr th:only-of-type {\n        vertical-align: middle;\n    }\n\n    .dataframe tbody tr th {\n        vertical-align: top;\n    }\n\n    .dataframe thead th {\n        text-align: right;\n    }\n</style>\n<table border=\"1\" class=\"dataframe\">\n  <thead>\n    <tr style=\"text-align: right;\">\n      <th></th>\n      <th>Date</th>\n      <th>Open</th>\n      <th>High</th>\n      <th>Low</th>\n      <th>Close</th>\n      <th>Adj Close</th>\n      <th>Volume</th>\n      <th>GDP</th>\n      <th>inflation</th>\n      <th>MoneySupply</th>\n    </tr>\n  </thead>\n  <tbody>\n    <tr>\n      <th>0</th>\n      <td>2014-09-17</td>\n      <td>465.864014</td>\n      <td>468.174011</td>\n      <td>452.421997</td>\n      <td>457.334015</td>\n      <td>457.334015</td>\n      <td>2.105680e+07</td>\n      <td></td>\n      <td></td>\n      <td></td>\n    </tr>\n    <tr>\n      <th>1</th>\n      <td>2014-09-18</td>\n      <td>456.859985</td>\n      <td>456.859985</td>\n      <td>413.104004</td>\n      <td>424.440002</td>\n      <td>424.440002</td>\n      <td>3.448320e+07</td>\n      <td></td>\n      <td></td>\n      <td></td>\n    </tr>\n    <tr>\n      <th>2</th>\n      <td>2014-09-19</td>\n      <td>424.102997</td>\n      <td>427.834991</td>\n      <td>384.532013</td>\n      <td>394.795990</td>\n      <td>394.795990</td>\n      <td>3.791970e+07</td>\n      <td></td>\n      <td></td>\n      <td></td>\n    </tr>\n    <tr>\n      <th>3</th>\n      <td>2014-09-20</td>\n      <td>394.673004</td>\n      <td>423.295990</td>\n      <td>389.882996</td>\n      <td>408.903992</td>\n      <td>408.903992</td>\n      <td>3.686360e+07</td>\n      <td></td>\n      <td></td>\n      <td></td>\n    </tr>\n    <tr>\n      <th>4</th>\n      <td>2014-09-21</td>\n      <td>408.084991</td>\n      <td>412.425995</td>\n      <td>393.181000</td>\n      <td>398.821014</td>\n      <td>398.821014</td>\n      <td>2.658010e+07</td>\n      <td></td>\n      <td></td>\n      <td></td>\n    </tr>\n    <tr>\n      <th>...</th>\n      <td>...</td>\n      <td>...</td>\n      <td>...</td>\n      <td>...</td>\n      <td>...</td>\n      <td>...</td>\n      <td>...</td>\n      <td>...</td>\n      <td>...</td>\n      <td>...</td>\n    </tr>\n    <tr>\n      <th>2394</th>\n      <td>2021-04-07</td>\n      <td>58186.507813</td>\n      <td>58731.144531</td>\n      <td>55604.023438</td>\n      <td>56048.937500</td>\n      <td>56048.937500</td>\n      <td>7.564530e+10</td>\n      <td></td>\n      <td></td>\n      <td></td>\n    </tr>\n    <tr>\n      <th>2395</th>\n      <td>2021-04-08</td>\n      <td>56099.914063</td>\n      <td>58338.738281</td>\n      <td>55879.085938</td>\n      <td>58323.953125</td>\n      <td>58323.953125</td>\n      <td>5.305386e+10</td>\n      <td></td>\n      <td></td>\n      <td></td>\n    </tr>\n    <tr>\n      <th>2396</th>\n      <td>2021-04-09</td>\n      <td>58326.562500</td>\n      <td>58937.046875</td>\n      <td>57807.863281</td>\n      <td>58245.003906</td>\n      <td>58245.003906</td>\n      <td>4.665521e+10</td>\n      <td></td>\n      <td></td>\n      <td></td>\n    </tr>\n    <tr>\n      <th>2397</th>\n      <td>2021-04-10</td>\n      <td>58253.777344</td>\n      <td>61276.664063</td>\n      <td>58038.707031</td>\n      <td>59793.234375</td>\n      <td>59793.234375</td>\n      <td>5.823847e+10</td>\n      <td></td>\n      <td></td>\n      <td></td>\n    </tr>\n    <tr>\n      <th>2398</th>\n      <td>2021-04-11</td>\n      <td>59832.035156</td>\n      <td>60741.066406</td>\n      <td>59362.312500</td>\n      <td>60055.707031</td>\n      <td>60055.707031</td>\n      <td>4.802959e+10</td>\n      <td></td>\n      <td></td>\n      <td></td>\n    </tr>\n  </tbody>\n</table>\n<p>2395 rows × 10 columns</p>\n</div>"
     },
     "execution_count": 77,
     "metadata": {},
     "output_type": "execute_result"
    }
   ],
   "source": [
    "gdp= {2014:1.75272E+13,2015:1.82247E+13,2016:1.8715E+13,2017:1.95194E+13,2018:2.05802E+13,2019:2.14332E+13,2020:2.14332E+13,2021:2.14332E+13}\n",
    "\n",
    "inflation = {2014:1.849827467,2015:1.041461871,2016:1.035268879,2017:1.88368859,2018:2.436001896,2019:1.941945236,2020:2,2021:2}\n",
    "\n",
    "money_supply = pd.read_csv(\"Data/M2.csv\")\n",
    "\n",
    "bitcoin_df['GDP'] = \"\"\n",
    "bitcoin_df['inflation'] = \"\"\n",
    "bitcoin_df['MoneySupply'] = \"\"\n",
    "bitcoin_df"
   ],
   "metadata": {
    "collapsed": false,
    "pycharm": {
     "name": "#%%\n"
    }
   }
  },
  {
   "cell_type": "code",
   "execution_count": 78,
   "outputs": [
    {
     "data": {
      "text/plain": "            Date          Open          High           Low         Close  \\\n0     2014-09-17    465.864014    468.174011    452.421997    457.334015   \n1     2014-09-18    456.859985    456.859985    413.104004    424.440002   \n2     2014-09-19    424.102997    427.834991    384.532013    394.795990   \n3     2014-09-20    394.673004    423.295990    389.882996    408.903992   \n4     2014-09-21    408.084991    412.425995    393.181000    398.821014   \n...          ...           ...           ...           ...           ...   \n2394  2021-04-07  58186.507813  58731.144531  55604.023438  56048.937500   \n2395  2021-04-08  56099.914063  58338.738281  55879.085938  58323.953125   \n2396  2021-04-09  58326.562500  58937.046875  57807.863281  58245.003906   \n2397  2021-04-10  58253.777344  61276.664063  58038.707031  59793.234375   \n2398  2021-04-11  59832.035156  60741.066406  59362.312500  60055.707031   \n\n         Adj Close        Volume          GDP inflation MoneySupply  \n0       457.334015  2.105680e+07  1.75272e+13   1.84983     11931.5  \n1       424.440002  3.448320e+07  1.75272e+13   1.84983     11931.5  \n2       394.795990  3.791970e+07  1.75272e+13   1.84983     11931.5  \n3       408.903992  3.686360e+07  1.75272e+13   1.84983     11931.5  \n4       398.821014  2.658010e+07  1.75272e+13   1.84983     11931.5  \n...            ...           ...          ...       ...         ...  \n2394  56048.937500  7.564530e+10  2.14332e+13         2     18548.7  \n2395  58323.953125  5.305386e+10  2.14332e+13         2     18548.7  \n2396  58245.003906  4.665521e+10  2.14332e+13         2     18548.7  \n2397  59793.234375  5.823847e+10  2.14332e+13         2     18548.7  \n2398  60055.707031  4.802959e+10  2.14332e+13         2     18548.7  \n\n[2395 rows x 10 columns]",
      "text/html": "<div>\n<style scoped>\n    .dataframe tbody tr th:only-of-type {\n        vertical-align: middle;\n    }\n\n    .dataframe tbody tr th {\n        vertical-align: top;\n    }\n\n    .dataframe thead th {\n        text-align: right;\n    }\n</style>\n<table border=\"1\" class=\"dataframe\">\n  <thead>\n    <tr style=\"text-align: right;\">\n      <th></th>\n      <th>Date</th>\n      <th>Open</th>\n      <th>High</th>\n      <th>Low</th>\n      <th>Close</th>\n      <th>Adj Close</th>\n      <th>Volume</th>\n      <th>GDP</th>\n      <th>inflation</th>\n      <th>MoneySupply</th>\n    </tr>\n  </thead>\n  <tbody>\n    <tr>\n      <th>0</th>\n      <td>2014-09-17</td>\n      <td>465.864014</td>\n      <td>468.174011</td>\n      <td>452.421997</td>\n      <td>457.334015</td>\n      <td>457.334015</td>\n      <td>2.105680e+07</td>\n      <td>1.75272e+13</td>\n      <td>1.84983</td>\n      <td>11931.5</td>\n    </tr>\n    <tr>\n      <th>1</th>\n      <td>2014-09-18</td>\n      <td>456.859985</td>\n      <td>456.859985</td>\n      <td>413.104004</td>\n      <td>424.440002</td>\n      <td>424.440002</td>\n      <td>3.448320e+07</td>\n      <td>1.75272e+13</td>\n      <td>1.84983</td>\n      <td>11931.5</td>\n    </tr>\n    <tr>\n      <th>2</th>\n      <td>2014-09-19</td>\n      <td>424.102997</td>\n      <td>427.834991</td>\n      <td>384.532013</td>\n      <td>394.795990</td>\n      <td>394.795990</td>\n      <td>3.791970e+07</td>\n      <td>1.75272e+13</td>\n      <td>1.84983</td>\n      <td>11931.5</td>\n    </tr>\n    <tr>\n      <th>3</th>\n      <td>2014-09-20</td>\n      <td>394.673004</td>\n      <td>423.295990</td>\n      <td>389.882996</td>\n      <td>408.903992</td>\n      <td>408.903992</td>\n      <td>3.686360e+07</td>\n      <td>1.75272e+13</td>\n      <td>1.84983</td>\n      <td>11931.5</td>\n    </tr>\n    <tr>\n      <th>4</th>\n      <td>2014-09-21</td>\n      <td>408.084991</td>\n      <td>412.425995</td>\n      <td>393.181000</td>\n      <td>398.821014</td>\n      <td>398.821014</td>\n      <td>2.658010e+07</td>\n      <td>1.75272e+13</td>\n      <td>1.84983</td>\n      <td>11931.5</td>\n    </tr>\n    <tr>\n      <th>...</th>\n      <td>...</td>\n      <td>...</td>\n      <td>...</td>\n      <td>...</td>\n      <td>...</td>\n      <td>...</td>\n      <td>...</td>\n      <td>...</td>\n      <td>...</td>\n      <td>...</td>\n    </tr>\n    <tr>\n      <th>2394</th>\n      <td>2021-04-07</td>\n      <td>58186.507813</td>\n      <td>58731.144531</td>\n      <td>55604.023438</td>\n      <td>56048.937500</td>\n      <td>56048.937500</td>\n      <td>7.564530e+10</td>\n      <td>2.14332e+13</td>\n      <td>2</td>\n      <td>18548.7</td>\n    </tr>\n    <tr>\n      <th>2395</th>\n      <td>2021-04-08</td>\n      <td>56099.914063</td>\n      <td>58338.738281</td>\n      <td>55879.085938</td>\n      <td>58323.953125</td>\n      <td>58323.953125</td>\n      <td>5.305386e+10</td>\n      <td>2.14332e+13</td>\n      <td>2</td>\n      <td>18548.7</td>\n    </tr>\n    <tr>\n      <th>2396</th>\n      <td>2021-04-09</td>\n      <td>58326.562500</td>\n      <td>58937.046875</td>\n      <td>57807.863281</td>\n      <td>58245.003906</td>\n      <td>58245.003906</td>\n      <td>4.665521e+10</td>\n      <td>2.14332e+13</td>\n      <td>2</td>\n      <td>18548.7</td>\n    </tr>\n    <tr>\n      <th>2397</th>\n      <td>2021-04-10</td>\n      <td>58253.777344</td>\n      <td>61276.664063</td>\n      <td>58038.707031</td>\n      <td>59793.234375</td>\n      <td>59793.234375</td>\n      <td>5.823847e+10</td>\n      <td>2.14332e+13</td>\n      <td>2</td>\n      <td>18548.7</td>\n    </tr>\n    <tr>\n      <th>2398</th>\n      <td>2021-04-11</td>\n      <td>59832.035156</td>\n      <td>60741.066406</td>\n      <td>59362.312500</td>\n      <td>60055.707031</td>\n      <td>60055.707031</td>\n      <td>4.802959e+10</td>\n      <td>2.14332e+13</td>\n      <td>2</td>\n      <td>18548.7</td>\n    </tr>\n  </tbody>\n</table>\n<p>2395 rows × 10 columns</p>\n</div>"
     },
     "execution_count": 78,
     "metadata": {},
     "output_type": "execute_result"
    }
   ],
   "source": [
    "import datetime\n",
    "\n",
    "money = money_supply.loc[0,'M2']\n",
    "date_money =money_supply.loc[0,'DATE'].split(\"-\")\n",
    "date_money = [int(i) for i in date_money]\n",
    "date_money = datetime.datetime(date_money[0],date_money[1],date_money[2])\n",
    "count=0\n",
    "for index, row in bitcoin_df.iterrows():\n",
    "    date = int(row['Date'][0:4])\n",
    "    bitcoin_df.loc[index,'GDP'] = gdp[date]\n",
    "    bitcoin_df.loc[index,'inflation'] = inflation[date]\n",
    "    date = row['Date'].split('-')\n",
    "    date = [int(i) for i in date]\n",
    "    date = datetime.datetime(date[0],date[1],date[2])\n",
    "    if date > date_money and count <=281:\n",
    "        count +=1\n",
    "        money = money_supply.loc[count,'M2']\n",
    "        date_money =money_supply.loc[count,'DATE'].split(\"-\")\n",
    "        date_money = [int(i) for i in date_money]\n",
    "        date_money = datetime.datetime(date_money[0],date_money[1],date_money[2])\n",
    "    bitcoin_df.loc[index,'MoneySupply'] = money\n",
    "    #money  = money_supply.loc[0,'M2']\n",
    "    #date_money =money_supply.loc[0,'DATE']\n",
    "bitcoin_df.to_csv(r'Data/btc_clean_2.csv',index=False)\n",
    "bitcoin_df"
   ],
   "metadata": {
    "collapsed": false,
    "pycharm": {
     "name": "#%%\n"
    }
   }
  },
  {
   "cell_type": "code",
   "execution_count": 79,
   "outputs": [
    {
     "data": {
      "text/plain": "            Date        Open        High         Low       Close   Adj Close  \\\n0     2014-09-17    5.085890    5.170770    4.965950    5.058550    5.058550   \n1     2014-09-18    5.065430    5.065430    4.579960    4.685230    4.685230   \n2     2014-09-19    4.687290    4.755820    4.254350    4.327770    4.327770   \n3     2014-09-20    4.329200    4.616080    4.202190    4.286440    4.286440   \n4     2014-09-21    4.263070    4.300130    4.154990    4.245920    4.245920   \n...          ...         ...         ...         ...         ...         ...   \n2394  2021-04-07  237.561569  243.151276  212.226654  219.423676  219.423676   \n2395  2021-04-08  219.846619  228.353668  218.084396  227.003021  227.003021   \n2396  2021-04-09  227.022171  228.967148  220.109406  221.862366  221.862366   \n2397  2021-04-10  221.716019  255.675980  220.200729  255.620193  255.620193   \n2398  2021-04-11  263.798401  263.798401  246.489822  252.966690  252.966690   \n\n            Volume GDP inflation MoneySupply  \n0     3.071840e+06                            \n1     4.569260e+06                            \n2     3.917450e+06                            \n3     5.490660e+06                            \n4     2.931220e+06                            \n...            ...  ..       ...         ...  \n2394  8.711169e+09                            \n2395  4.532286e+09                            \n2396  3.137325e+09                            \n2397  6.686631e+09                            \n2398  7.501014e+09                            \n\n[2395 rows x 10 columns]",
      "text/html": "<div>\n<style scoped>\n    .dataframe tbody tr th:only-of-type {\n        vertical-align: middle;\n    }\n\n    .dataframe tbody tr th {\n        vertical-align: top;\n    }\n\n    .dataframe thead th {\n        text-align: right;\n    }\n</style>\n<table border=\"1\" class=\"dataframe\">\n  <thead>\n    <tr style=\"text-align: right;\">\n      <th></th>\n      <th>Date</th>\n      <th>Open</th>\n      <th>High</th>\n      <th>Low</th>\n      <th>Close</th>\n      <th>Adj Close</th>\n      <th>Volume</th>\n      <th>GDP</th>\n      <th>inflation</th>\n      <th>MoneySupply</th>\n    </tr>\n  </thead>\n  <tbody>\n    <tr>\n      <th>0</th>\n      <td>2014-09-17</td>\n      <td>5.085890</td>\n      <td>5.170770</td>\n      <td>4.965950</td>\n      <td>5.058550</td>\n      <td>5.058550</td>\n      <td>3.071840e+06</td>\n      <td></td>\n      <td></td>\n      <td></td>\n    </tr>\n    <tr>\n      <th>1</th>\n      <td>2014-09-18</td>\n      <td>5.065430</td>\n      <td>5.065430</td>\n      <td>4.579960</td>\n      <td>4.685230</td>\n      <td>4.685230</td>\n      <td>4.569260e+06</td>\n      <td></td>\n      <td></td>\n      <td></td>\n    </tr>\n    <tr>\n      <th>2</th>\n      <td>2014-09-19</td>\n      <td>4.687290</td>\n      <td>4.755820</td>\n      <td>4.254350</td>\n      <td>4.327770</td>\n      <td>4.327770</td>\n      <td>3.917450e+06</td>\n      <td></td>\n      <td></td>\n      <td></td>\n    </tr>\n    <tr>\n      <th>3</th>\n      <td>2014-09-20</td>\n      <td>4.329200</td>\n      <td>4.616080</td>\n      <td>4.202190</td>\n      <td>4.286440</td>\n      <td>4.286440</td>\n      <td>5.490660e+06</td>\n      <td></td>\n      <td></td>\n      <td></td>\n    </tr>\n    <tr>\n      <th>4</th>\n      <td>2014-09-21</td>\n      <td>4.263070</td>\n      <td>4.300130</td>\n      <td>4.154990</td>\n      <td>4.245920</td>\n      <td>4.245920</td>\n      <td>2.931220e+06</td>\n      <td></td>\n      <td></td>\n      <td></td>\n    </tr>\n    <tr>\n      <th>...</th>\n      <td>...</td>\n      <td>...</td>\n      <td>...</td>\n      <td>...</td>\n      <td>...</td>\n      <td>...</td>\n      <td>...</td>\n      <td>...</td>\n      <td>...</td>\n      <td>...</td>\n    </tr>\n    <tr>\n      <th>2394</th>\n      <td>2021-04-07</td>\n      <td>237.561569</td>\n      <td>243.151276</td>\n      <td>212.226654</td>\n      <td>219.423676</td>\n      <td>219.423676</td>\n      <td>8.711169e+09</td>\n      <td></td>\n      <td></td>\n      <td></td>\n    </tr>\n    <tr>\n      <th>2395</th>\n      <td>2021-04-08</td>\n      <td>219.846619</td>\n      <td>228.353668</td>\n      <td>218.084396</td>\n      <td>227.003021</td>\n      <td>227.003021</td>\n      <td>4.532286e+09</td>\n      <td></td>\n      <td></td>\n      <td></td>\n    </tr>\n    <tr>\n      <th>2396</th>\n      <td>2021-04-09</td>\n      <td>227.022171</td>\n      <td>228.967148</td>\n      <td>220.109406</td>\n      <td>221.862366</td>\n      <td>221.862366</td>\n      <td>3.137325e+09</td>\n      <td></td>\n      <td></td>\n      <td></td>\n    </tr>\n    <tr>\n      <th>2397</th>\n      <td>2021-04-10</td>\n      <td>221.716019</td>\n      <td>255.675980</td>\n      <td>220.200729</td>\n      <td>255.620193</td>\n      <td>255.620193</td>\n      <td>6.686631e+09</td>\n      <td></td>\n      <td></td>\n      <td></td>\n    </tr>\n    <tr>\n      <th>2398</th>\n      <td>2021-04-11</td>\n      <td>263.798401</td>\n      <td>263.798401</td>\n      <td>246.489822</td>\n      <td>252.966690</td>\n      <td>252.966690</td>\n      <td>7.501014e+09</td>\n      <td></td>\n      <td></td>\n      <td></td>\n    </tr>\n  </tbody>\n</table>\n<p>2395 rows × 10 columns</p>\n</div>"
     },
     "execution_count": 79,
     "metadata": {},
     "output_type": "execute_result"
    }
   ],
   "source": [
    "lit_df['GDP'] = \"\"\n",
    "lit_df['inflation'] = \"\"\n",
    "lit_df['MoneySupply'] = \"\"\n",
    "lit_df"
   ],
   "metadata": {
    "collapsed": false,
    "pycharm": {
     "name": "#%%\n"
    }
   }
  },
  {
   "cell_type": "code",
   "execution_count": 80,
   "outputs": [
    {
     "data": {
      "text/plain": "            Date        Open        High         Low       Close   Adj Close  \\\n0     2014-09-17    5.085890    5.170770    4.965950    5.058550    5.058550   \n1     2014-09-18    5.065430    5.065430    4.579960    4.685230    4.685230   \n2     2014-09-19    4.687290    4.755820    4.254350    4.327770    4.327770   \n3     2014-09-20    4.329200    4.616080    4.202190    4.286440    4.286440   \n4     2014-09-21    4.263070    4.300130    4.154990    4.245920    4.245920   \n...          ...         ...         ...         ...         ...         ...   \n2394  2021-04-07  237.561569  243.151276  212.226654  219.423676  219.423676   \n2395  2021-04-08  219.846619  228.353668  218.084396  227.003021  227.003021   \n2396  2021-04-09  227.022171  228.967148  220.109406  221.862366  221.862366   \n2397  2021-04-10  221.716019  255.675980  220.200729  255.620193  255.620193   \n2398  2021-04-11  263.798401  263.798401  246.489822  252.966690  252.966690   \n\n            Volume          GDP inflation MoneySupply  \n0     3.071840e+06  1.75272e+13   1.84983     11931.5  \n1     4.569260e+06  1.75272e+13   1.84983     11931.5  \n2     3.917450e+06  1.75272e+13   1.84983     11931.5  \n3     5.490660e+06  1.75272e+13   1.84983     11931.5  \n4     2.931220e+06  1.75272e+13   1.84983     11931.5  \n...            ...          ...       ...         ...  \n2394  8.711169e+09  2.14332e+13         2     18548.7  \n2395  4.532286e+09  2.14332e+13         2     18548.7  \n2396  3.137325e+09  2.14332e+13         2     18548.7  \n2397  6.686631e+09  2.14332e+13         2     18548.7  \n2398  7.501014e+09  2.14332e+13         2     18548.7  \n\n[2395 rows x 10 columns]",
      "text/html": "<div>\n<style scoped>\n    .dataframe tbody tr th:only-of-type {\n        vertical-align: middle;\n    }\n\n    .dataframe tbody tr th {\n        vertical-align: top;\n    }\n\n    .dataframe thead th {\n        text-align: right;\n    }\n</style>\n<table border=\"1\" class=\"dataframe\">\n  <thead>\n    <tr style=\"text-align: right;\">\n      <th></th>\n      <th>Date</th>\n      <th>Open</th>\n      <th>High</th>\n      <th>Low</th>\n      <th>Close</th>\n      <th>Adj Close</th>\n      <th>Volume</th>\n      <th>GDP</th>\n      <th>inflation</th>\n      <th>MoneySupply</th>\n    </tr>\n  </thead>\n  <tbody>\n    <tr>\n      <th>0</th>\n      <td>2014-09-17</td>\n      <td>5.085890</td>\n      <td>5.170770</td>\n      <td>4.965950</td>\n      <td>5.058550</td>\n      <td>5.058550</td>\n      <td>3.071840e+06</td>\n      <td>1.75272e+13</td>\n      <td>1.84983</td>\n      <td>11931.5</td>\n    </tr>\n    <tr>\n      <th>1</th>\n      <td>2014-09-18</td>\n      <td>5.065430</td>\n      <td>5.065430</td>\n      <td>4.579960</td>\n      <td>4.685230</td>\n      <td>4.685230</td>\n      <td>4.569260e+06</td>\n      <td>1.75272e+13</td>\n      <td>1.84983</td>\n      <td>11931.5</td>\n    </tr>\n    <tr>\n      <th>2</th>\n      <td>2014-09-19</td>\n      <td>4.687290</td>\n      <td>4.755820</td>\n      <td>4.254350</td>\n      <td>4.327770</td>\n      <td>4.327770</td>\n      <td>3.917450e+06</td>\n      <td>1.75272e+13</td>\n      <td>1.84983</td>\n      <td>11931.5</td>\n    </tr>\n    <tr>\n      <th>3</th>\n      <td>2014-09-20</td>\n      <td>4.329200</td>\n      <td>4.616080</td>\n      <td>4.202190</td>\n      <td>4.286440</td>\n      <td>4.286440</td>\n      <td>5.490660e+06</td>\n      <td>1.75272e+13</td>\n      <td>1.84983</td>\n      <td>11931.5</td>\n    </tr>\n    <tr>\n      <th>4</th>\n      <td>2014-09-21</td>\n      <td>4.263070</td>\n      <td>4.300130</td>\n      <td>4.154990</td>\n      <td>4.245920</td>\n      <td>4.245920</td>\n      <td>2.931220e+06</td>\n      <td>1.75272e+13</td>\n      <td>1.84983</td>\n      <td>11931.5</td>\n    </tr>\n    <tr>\n      <th>...</th>\n      <td>...</td>\n      <td>...</td>\n      <td>...</td>\n      <td>...</td>\n      <td>...</td>\n      <td>...</td>\n      <td>...</td>\n      <td>...</td>\n      <td>...</td>\n      <td>...</td>\n    </tr>\n    <tr>\n      <th>2394</th>\n      <td>2021-04-07</td>\n      <td>237.561569</td>\n      <td>243.151276</td>\n      <td>212.226654</td>\n      <td>219.423676</td>\n      <td>219.423676</td>\n      <td>8.711169e+09</td>\n      <td>2.14332e+13</td>\n      <td>2</td>\n      <td>18548.7</td>\n    </tr>\n    <tr>\n      <th>2395</th>\n      <td>2021-04-08</td>\n      <td>219.846619</td>\n      <td>228.353668</td>\n      <td>218.084396</td>\n      <td>227.003021</td>\n      <td>227.003021</td>\n      <td>4.532286e+09</td>\n      <td>2.14332e+13</td>\n      <td>2</td>\n      <td>18548.7</td>\n    </tr>\n    <tr>\n      <th>2396</th>\n      <td>2021-04-09</td>\n      <td>227.022171</td>\n      <td>228.967148</td>\n      <td>220.109406</td>\n      <td>221.862366</td>\n      <td>221.862366</td>\n      <td>3.137325e+09</td>\n      <td>2.14332e+13</td>\n      <td>2</td>\n      <td>18548.7</td>\n    </tr>\n    <tr>\n      <th>2397</th>\n      <td>2021-04-10</td>\n      <td>221.716019</td>\n      <td>255.675980</td>\n      <td>220.200729</td>\n      <td>255.620193</td>\n      <td>255.620193</td>\n      <td>6.686631e+09</td>\n      <td>2.14332e+13</td>\n      <td>2</td>\n      <td>18548.7</td>\n    </tr>\n    <tr>\n      <th>2398</th>\n      <td>2021-04-11</td>\n      <td>263.798401</td>\n      <td>263.798401</td>\n      <td>246.489822</td>\n      <td>252.966690</td>\n      <td>252.966690</td>\n      <td>7.501014e+09</td>\n      <td>2.14332e+13</td>\n      <td>2</td>\n      <td>18548.7</td>\n    </tr>\n  </tbody>\n</table>\n<p>2395 rows × 10 columns</p>\n</div>"
     },
     "execution_count": 80,
     "metadata": {},
     "output_type": "execute_result"
    }
   ],
   "source": [
    "money = money_supply.loc[0,'M2']\n",
    "date_money =money_supply.loc[0,'DATE'].split(\"-\")\n",
    "date_money = [int(i) for i in date_money]\n",
    "date_money = datetime.datetime(date_money[0],date_money[1],date_money[2])\n",
    "count=0\n",
    "for index, row in lit_df.iterrows():\n",
    "    date = int(row['Date'][0:4])\n",
    "    lit_df.loc[index,'GDP'] = gdp[date]\n",
    "    lit_df.loc[index,'inflation'] = inflation[date]\n",
    "    date = row['Date'].split('-')\n",
    "    date = [int(i) for i in date]\n",
    "    date = datetime.datetime(date[0],date[1],date[2])\n",
    "    if date > date_money and count <=281:\n",
    "        count +=1\n",
    "        money = money_supply.loc[count,'M2']\n",
    "        date_money =money_supply.loc[count,'DATE'].split(\"-\")\n",
    "        date_money = [int(i) for i in date_money]\n",
    "        date_money = datetime.datetime(date_money[0],date_money[1],date_money[2])\n",
    "    lit_df.loc[index,'MoneySupply'] = money\n",
    "    #money  = money_supply.loc[0,'M2']\n",
    "    #date_money =money_supply.loc[0,'DATE']\n",
    "lit_df.to_csv(r'Data/ltc_clean_2.csv',index=False)\n",
    "lit_df"
   ],
   "metadata": {
    "collapsed": false,
    "pycharm": {
     "name": "#%%\n"
    }
   }
  },
  {
   "cell_type": "code",
   "execution_count": 81,
   "outputs": [
    {
     "data": {
      "text/plain": "            Date         Open         High          Low        Close  \\\n0     2015-08-07     2.831620     3.536610     2.521120     2.772120   \n1     2015-08-08     2.793760     2.798810     0.714725     0.753325   \n2     2015-08-09     0.706136     0.879810     0.629191     0.701897   \n3     2015-08-10     0.713989     0.729854     0.636546     0.708448   \n4     2015-08-11     0.708087     1.131410     0.663235     1.067860   \n...          ...          ...          ...          ...          ...   \n2070  2021-04-07  2117.728516  2133.187500  1945.442139  1971.077271   \n2071  2021-04-08  1969.133179  2091.516357  1959.079468  2088.573730   \n2072  2021-04-09  2088.772217  2102.873779  2055.163330  2072.108887   \n2073  2021-04-10  2071.111572  2196.996338  2062.787598  2135.942139   \n2074  2021-04-11  2143.174072  2164.046875  2120.289551  2160.133545   \n\n        Adj Close        Volume GDP inflation MoneySupply  \n0        2.772120  1.643290e+05                            \n1        0.753325  6.741880e+05                            \n2        0.701897  5.321700e+05                            \n3        0.708448  4.052830e+05                            \n4        1.067860  1.463100e+06                            \n...           ...           ...  ..       ...         ...  \n2070  1971.077271  3.611627e+10                            \n2071  2088.573730  2.531296e+10                            \n2072  2072.108887  1.981247e+10                            \n2073  2135.942139  2.498624e+10                            \n2074  2160.133545  2.042438e+10                            \n\n[2071 rows x 10 columns]",
      "text/html": "<div>\n<style scoped>\n    .dataframe tbody tr th:only-of-type {\n        vertical-align: middle;\n    }\n\n    .dataframe tbody tr th {\n        vertical-align: top;\n    }\n\n    .dataframe thead th {\n        text-align: right;\n    }\n</style>\n<table border=\"1\" class=\"dataframe\">\n  <thead>\n    <tr style=\"text-align: right;\">\n      <th></th>\n      <th>Date</th>\n      <th>Open</th>\n      <th>High</th>\n      <th>Low</th>\n      <th>Close</th>\n      <th>Adj Close</th>\n      <th>Volume</th>\n      <th>GDP</th>\n      <th>inflation</th>\n      <th>MoneySupply</th>\n    </tr>\n  </thead>\n  <tbody>\n    <tr>\n      <th>0</th>\n      <td>2015-08-07</td>\n      <td>2.831620</td>\n      <td>3.536610</td>\n      <td>2.521120</td>\n      <td>2.772120</td>\n      <td>2.772120</td>\n      <td>1.643290e+05</td>\n      <td></td>\n      <td></td>\n      <td></td>\n    </tr>\n    <tr>\n      <th>1</th>\n      <td>2015-08-08</td>\n      <td>2.793760</td>\n      <td>2.798810</td>\n      <td>0.714725</td>\n      <td>0.753325</td>\n      <td>0.753325</td>\n      <td>6.741880e+05</td>\n      <td></td>\n      <td></td>\n      <td></td>\n    </tr>\n    <tr>\n      <th>2</th>\n      <td>2015-08-09</td>\n      <td>0.706136</td>\n      <td>0.879810</td>\n      <td>0.629191</td>\n      <td>0.701897</td>\n      <td>0.701897</td>\n      <td>5.321700e+05</td>\n      <td></td>\n      <td></td>\n      <td></td>\n    </tr>\n    <tr>\n      <th>3</th>\n      <td>2015-08-10</td>\n      <td>0.713989</td>\n      <td>0.729854</td>\n      <td>0.636546</td>\n      <td>0.708448</td>\n      <td>0.708448</td>\n      <td>4.052830e+05</td>\n      <td></td>\n      <td></td>\n      <td></td>\n    </tr>\n    <tr>\n      <th>4</th>\n      <td>2015-08-11</td>\n      <td>0.708087</td>\n      <td>1.131410</td>\n      <td>0.663235</td>\n      <td>1.067860</td>\n      <td>1.067860</td>\n      <td>1.463100e+06</td>\n      <td></td>\n      <td></td>\n      <td></td>\n    </tr>\n    <tr>\n      <th>...</th>\n      <td>...</td>\n      <td>...</td>\n      <td>...</td>\n      <td>...</td>\n      <td>...</td>\n      <td>...</td>\n      <td>...</td>\n      <td>...</td>\n      <td>...</td>\n      <td>...</td>\n    </tr>\n    <tr>\n      <th>2070</th>\n      <td>2021-04-07</td>\n      <td>2117.728516</td>\n      <td>2133.187500</td>\n      <td>1945.442139</td>\n      <td>1971.077271</td>\n      <td>1971.077271</td>\n      <td>3.611627e+10</td>\n      <td></td>\n      <td></td>\n      <td></td>\n    </tr>\n    <tr>\n      <th>2071</th>\n      <td>2021-04-08</td>\n      <td>1969.133179</td>\n      <td>2091.516357</td>\n      <td>1959.079468</td>\n      <td>2088.573730</td>\n      <td>2088.573730</td>\n      <td>2.531296e+10</td>\n      <td></td>\n      <td></td>\n      <td></td>\n    </tr>\n    <tr>\n      <th>2072</th>\n      <td>2021-04-09</td>\n      <td>2088.772217</td>\n      <td>2102.873779</td>\n      <td>2055.163330</td>\n      <td>2072.108887</td>\n      <td>2072.108887</td>\n      <td>1.981247e+10</td>\n      <td></td>\n      <td></td>\n      <td></td>\n    </tr>\n    <tr>\n      <th>2073</th>\n      <td>2021-04-10</td>\n      <td>2071.111572</td>\n      <td>2196.996338</td>\n      <td>2062.787598</td>\n      <td>2135.942139</td>\n      <td>2135.942139</td>\n      <td>2.498624e+10</td>\n      <td></td>\n      <td></td>\n      <td></td>\n    </tr>\n    <tr>\n      <th>2074</th>\n      <td>2021-04-11</td>\n      <td>2143.174072</td>\n      <td>2164.046875</td>\n      <td>2120.289551</td>\n      <td>2160.133545</td>\n      <td>2160.133545</td>\n      <td>2.042438e+10</td>\n      <td></td>\n      <td></td>\n      <td></td>\n    </tr>\n  </tbody>\n</table>\n<p>2071 rows × 10 columns</p>\n</div>"
     },
     "execution_count": 81,
     "metadata": {},
     "output_type": "execute_result"
    }
   ],
   "source": [
    "eth_df['GDP'] = \"\"\n",
    "eth_df['inflation'] = \"\"\n",
    "eth_df['MoneySupply'] = \"\"\n",
    "eth_df"
   ],
   "metadata": {
    "collapsed": false,
    "pycharm": {
     "name": "#%%\n"
    }
   }
  },
  {
   "cell_type": "code",
   "execution_count": 82,
   "outputs": [
    {
     "data": {
      "text/plain": "            Date         Open         High          Low        Close  \\\n0     2015-08-07     2.831620     3.536610     2.521120     2.772120   \n1     2015-08-08     2.793760     2.798810     0.714725     0.753325   \n2     2015-08-09     0.706136     0.879810     0.629191     0.701897   \n3     2015-08-10     0.713989     0.729854     0.636546     0.708448   \n4     2015-08-11     0.708087     1.131410     0.663235     1.067860   \n...          ...          ...          ...          ...          ...   \n2070  2021-04-07  2117.728516  2133.187500  1945.442139  1971.077271   \n2071  2021-04-08  1969.133179  2091.516357  1959.079468  2088.573730   \n2072  2021-04-09  2088.772217  2102.873779  2055.163330  2072.108887   \n2073  2021-04-10  2071.111572  2196.996338  2062.787598  2135.942139   \n2074  2021-04-11  2143.174072  2164.046875  2120.289551  2160.133545   \n\n        Adj Close        Volume          GDP inflation MoneySupply  \n0        2.772120  1.643290e+05  1.82247e+13   1.04146     11937.3  \n1        0.753325  6.741880e+05  1.82247e+13   1.04146     11925.9  \n2        0.701897  5.321700e+05  1.82247e+13   1.04146     11929.2  \n3        0.708448  4.052830e+05  1.82247e+13   1.04146     11943.1  \n4        1.067860  1.463100e+06  1.82247e+13   1.04146     11955.2  \n...           ...           ...          ...       ...         ...  \n2070  1971.077271  3.611627e+10  2.14332e+13         2     18548.7  \n2071  2088.573730  2.531296e+10  2.14332e+13         2     18548.7  \n2072  2072.108887  1.981247e+10  2.14332e+13         2     18548.7  \n2073  2135.942139  2.498624e+10  2.14332e+13         2     18548.7  \n2074  2160.133545  2.042438e+10  2.14332e+13         2     18548.7  \n\n[2071 rows x 10 columns]",
      "text/html": "<div>\n<style scoped>\n    .dataframe tbody tr th:only-of-type {\n        vertical-align: middle;\n    }\n\n    .dataframe tbody tr th {\n        vertical-align: top;\n    }\n\n    .dataframe thead th {\n        text-align: right;\n    }\n</style>\n<table border=\"1\" class=\"dataframe\">\n  <thead>\n    <tr style=\"text-align: right;\">\n      <th></th>\n      <th>Date</th>\n      <th>Open</th>\n      <th>High</th>\n      <th>Low</th>\n      <th>Close</th>\n      <th>Adj Close</th>\n      <th>Volume</th>\n      <th>GDP</th>\n      <th>inflation</th>\n      <th>MoneySupply</th>\n    </tr>\n  </thead>\n  <tbody>\n    <tr>\n      <th>0</th>\n      <td>2015-08-07</td>\n      <td>2.831620</td>\n      <td>3.536610</td>\n      <td>2.521120</td>\n      <td>2.772120</td>\n      <td>2.772120</td>\n      <td>1.643290e+05</td>\n      <td>1.82247e+13</td>\n      <td>1.04146</td>\n      <td>11937.3</td>\n    </tr>\n    <tr>\n      <th>1</th>\n      <td>2015-08-08</td>\n      <td>2.793760</td>\n      <td>2.798810</td>\n      <td>0.714725</td>\n      <td>0.753325</td>\n      <td>0.753325</td>\n      <td>6.741880e+05</td>\n      <td>1.82247e+13</td>\n      <td>1.04146</td>\n      <td>11925.9</td>\n    </tr>\n    <tr>\n      <th>2</th>\n      <td>2015-08-09</td>\n      <td>0.706136</td>\n      <td>0.879810</td>\n      <td>0.629191</td>\n      <td>0.701897</td>\n      <td>0.701897</td>\n      <td>5.321700e+05</td>\n      <td>1.82247e+13</td>\n      <td>1.04146</td>\n      <td>11929.2</td>\n    </tr>\n    <tr>\n      <th>3</th>\n      <td>2015-08-10</td>\n      <td>0.713989</td>\n      <td>0.729854</td>\n      <td>0.636546</td>\n      <td>0.708448</td>\n      <td>0.708448</td>\n      <td>4.052830e+05</td>\n      <td>1.82247e+13</td>\n      <td>1.04146</td>\n      <td>11943.1</td>\n    </tr>\n    <tr>\n      <th>4</th>\n      <td>2015-08-11</td>\n      <td>0.708087</td>\n      <td>1.131410</td>\n      <td>0.663235</td>\n      <td>1.067860</td>\n      <td>1.067860</td>\n      <td>1.463100e+06</td>\n      <td>1.82247e+13</td>\n      <td>1.04146</td>\n      <td>11955.2</td>\n    </tr>\n    <tr>\n      <th>...</th>\n      <td>...</td>\n      <td>...</td>\n      <td>...</td>\n      <td>...</td>\n      <td>...</td>\n      <td>...</td>\n      <td>...</td>\n      <td>...</td>\n      <td>...</td>\n      <td>...</td>\n    </tr>\n    <tr>\n      <th>2070</th>\n      <td>2021-04-07</td>\n      <td>2117.728516</td>\n      <td>2133.187500</td>\n      <td>1945.442139</td>\n      <td>1971.077271</td>\n      <td>1971.077271</td>\n      <td>3.611627e+10</td>\n      <td>2.14332e+13</td>\n      <td>2</td>\n      <td>18548.7</td>\n    </tr>\n    <tr>\n      <th>2071</th>\n      <td>2021-04-08</td>\n      <td>1969.133179</td>\n      <td>2091.516357</td>\n      <td>1959.079468</td>\n      <td>2088.573730</td>\n      <td>2088.573730</td>\n      <td>2.531296e+10</td>\n      <td>2.14332e+13</td>\n      <td>2</td>\n      <td>18548.7</td>\n    </tr>\n    <tr>\n      <th>2072</th>\n      <td>2021-04-09</td>\n      <td>2088.772217</td>\n      <td>2102.873779</td>\n      <td>2055.163330</td>\n      <td>2072.108887</td>\n      <td>2072.108887</td>\n      <td>1.981247e+10</td>\n      <td>2.14332e+13</td>\n      <td>2</td>\n      <td>18548.7</td>\n    </tr>\n    <tr>\n      <th>2073</th>\n      <td>2021-04-10</td>\n      <td>2071.111572</td>\n      <td>2196.996338</td>\n      <td>2062.787598</td>\n      <td>2135.942139</td>\n      <td>2135.942139</td>\n      <td>2.498624e+10</td>\n      <td>2.14332e+13</td>\n      <td>2</td>\n      <td>18548.7</td>\n    </tr>\n    <tr>\n      <th>2074</th>\n      <td>2021-04-11</td>\n      <td>2143.174072</td>\n      <td>2164.046875</td>\n      <td>2120.289551</td>\n      <td>2160.133545</td>\n      <td>2160.133545</td>\n      <td>2.042438e+10</td>\n      <td>2.14332e+13</td>\n      <td>2</td>\n      <td>18548.7</td>\n    </tr>\n  </tbody>\n</table>\n<p>2071 rows × 10 columns</p>\n</div>"
     },
     "execution_count": 82,
     "metadata": {},
     "output_type": "execute_result"
    }
   ],
   "source": [
    "money = money_supply.loc[0,'M2']\n",
    "date_money =money_supply.loc[0,'DATE'].split(\"-\")\n",
    "date_money = [int(i) for i in date_money]\n",
    "date_money = datetime.datetime(date_money[0],date_money[1],date_money[2])\n",
    "count=0\n",
    "for index, row in eth_df.iterrows():\n",
    "    date = int(row['Date'][0:4])\n",
    "    eth_df.loc[index,'GDP'] = gdp[date]\n",
    "    eth_df.loc[index,'inflation'] = inflation[date]\n",
    "    date = row['Date'].split('-')\n",
    "    date = [int(i) for i in date]\n",
    "    date = datetime.datetime(date[0],date[1],date[2])\n",
    "    if date > date_money and count <=281:\n",
    "        count +=1\n",
    "        money = money_supply.loc[count,'M2']\n",
    "        date_money =money_supply.loc[count,'DATE'].split(\"-\")\n",
    "        date_money = [int(i) for i in date_money]\n",
    "        date_money = datetime.datetime(date_money[0],date_money[1],date_money[2])\n",
    "    eth_df.loc[index,'MoneySupply'] = money\n",
    "    #money  = money_supply.loc[0,'M2']\n",
    "    #date_money =money_supply.loc[0,'DATE']\n",
    "eth_df.to_csv(r'Data/eth_clean_2.csv',index=False)\n",
    "eth_df"
   ],
   "metadata": {
    "collapsed": false,
    "pycharm": {
     "name": "#%%\n"
    }
   }
  }
 ],
 "metadata": {
  "kernelspec": {
   "display_name": "Python 3",
   "language": "python",
   "name": "python3"
  },
  "language_info": {
   "codemirror_mode": {
    "name": "ipython",
    "version": 2
   },
   "file_extension": ".py",
   "mimetype": "text/x-python",
   "name": "python",
   "nbconvert_exporter": "python",
   "pygments_lexer": "ipython2",
   "version": "2.7.6"
  }
 },
 "nbformat": 4,
 "nbformat_minor": 0
}